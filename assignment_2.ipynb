{
 "cells": [
  {
   "cell_type": "markdown",
   "id": "7dcc3639",
   "metadata": {},
   "source": [
    "University of Helsinki, Master's Programme in Data Science  \n",
    "DATA20046 Neural Networks and Deep Learning - Spring 2025  \n",
    "Arto Klami, Aapo Hyvärinen  \n",
    "\n",
    "# Problem Set 2: Neural network optimization and generalization"
   ]
  },
  {
   "cell_type": "markdown",
   "id": "5007c798",
   "metadata": {},
   "source": [
    "## Mathematical Exercises"
   ]
  },
  {
   "cell_type": "markdown",
   "id": "581957d4",
   "metadata": {},
   "source": [
    "1. We can look at the automatic differentiation algorithm as a graph in which nodes represent the intermediate values computed in the forward pass and edges represent the partial derivatives of the children w.r.t the parent $$\\frac{\\partial child}{\\partial parent}$$ Once we know the final value of the forward pass we can update the values of the nodes with the backward pass using the following formula $$\\bar{u} = \\sum_{v \\in \\text{children}(u)} \\bar{v} \\cdot \\frac{\\partial v}{\\partial u}$$ where:\n",
    "\t- $\\bar{v} = \\frac{\\partial f}{\\partial v}$ is the backward pass result up to node v (note: the very first result is always 1),\n",
    "\t- $\\frac{\\partial v}{\\partial u}$ is the local partial derivative from $u \\to v$,\n",
    "\t- In summary, because of $\\frac{\\partial v}{\\partial u}$ we need the intermediate derivative expressions and node values of the forward pass\n"
   ]
  },
  {
   "cell_type": "markdown",
   "id": "0c6350a1",
   "metadata": {},
   "source": [
    "<div style=\"display: flex; justify-content: space-between; align-items: flex-start; gap: 10px;\">\n",
    "  <img src=\"forward.drawio.png\" alt=\"Forward\" style=\"width: 100%; height: auto;\" />\n",
    "  <img src=\"backward.drawio.png\" alt=\"Backward\" style=\"width: 100%; height: auto;\" />\n",
    "</div>"
   ]
  },
  {
   "cell_type": "markdown",
   "id": "fd1543ad",
   "metadata": {},
   "source": [
    "## Computer Assignments"
   ]
  },
  {
   "cell_type": "markdown",
   "id": "94cc029b-0d55-4891-afb4-05961f66d729",
   "metadata": {},
   "source": [
    "### Problem 1\n",
    "\n",
    "Setting up the enrivonment and loading the data. No need to change this part."
   ]
  },
  {
   "cell_type": "code",
   "execution_count": 1,
   "id": "bce6084d-0ac9-46e7-b74d-367ea80b5670",
   "metadata": {},
   "outputs": [],
   "source": [
    "import torch\n",
    "from torch import nn\n",
    "from torch.utils.data import TensorDataset, DataLoader\n",
    "from torchvision import datasets, transforms\n",
    "import numpy as np\n",
    "import matplotlib.pyplot as plt\n",
    "\n",
    "seed = 42\n",
    "torch.manual_seed(seed)\n",
    "np.random.seed(seed)\n",
    "\n",
    "# Load tensors from the file\n",
    "loaded_tensors = torch.load('exercise_2_problem_1_data.pth')\n",
    "X_tensor = loaded_tensors['X_tensor']\n",
    "Y_tensor = loaded_tensors['Y_tensor']\n",
    "dataset = TensorDataset(X_tensor, Y_tensor)"
   ]
  },
  {
   "cell_type": "markdown",
   "id": "879c23b7",
   "metadata": {},
   "source": [
    "#### a) Model definition\n",
    "\n",
    "Finalize the model definition as instructed in the exercise sheet."
   ]
  },
  {
   "cell_type": "code",
   "execution_count": 2,
   "id": "d19f2fb3",
   "metadata": {},
   "outputs": [],
   "source": [
    "class RegressionModel(nn.Module):\n",
    "\tdef __init__(self, input_dim, output_dim):\n",
    "\t\tsuper().__init__()\n",
    "\t\tself.layers = nn.Sequential(\n",
    "\t\t\t# TODO\n",
    "\t\t\tnn.Linear(input_dim, 400, bias = False)\n",
    "\t\t\t,nn.ReLU()\n",
    "\t\t\t,nn.Linear(400, 200, bias = False)\n",
    "\t\t\t,nn.ReLU()\n",
    "\t\t\t,nn.Linear(200, 100, bias = False)\n",
    "\t\t\t,nn.ReLU()\n",
    "\t\t\t,nn.Linear(100, output_dim, bias = False)\n",
    "\t\t)\n",
    "\n",
    "\tdef forward(self, x):\n",
    "\t\treturn self.layers(x)"
   ]
  },
  {
   "cell_type": "markdown",
   "id": "8e71365f",
   "metadata": {},
   "source": [
    "#### b) Write optimization loop\n",
    "\n",
    "You can use any optimizer you want, but remember to set all the hyperparameters it requires, including the batch size and number of iterations etc that are defined outside the optimizer function."
   ]
  },
  {
   "cell_type": "code",
   "execution_count": null,
   "id": "e294969d",
   "metadata": {},
   "outputs": [
    {
     "name": "stdout",
     "output_type": "stream",
     "text": [
      "Epoch [2/5000] - MSE Loss: 1.012817\n",
      "Epoch [502/5000] - MSE Loss: 0.042497\n",
      "Epoch [1002/5000] - MSE Loss: 0.003724\n",
      "Epoch [1502/5000] - MSE Loss: 0.000469\n",
      "Epoch [2002/5000] - MSE Loss: 0.000073\n",
      "Epoch [2502/5000] - MSE Loss: 0.000014\n",
      "Epoch [3002/5000] - MSE Loss: 0.000003\n",
      "Epoch [3502/5000] - MSE Loss: 0.000001\n",
      "Epoch [4002/5000] - MSE Loss: 0.000000\n",
      "Epoch [4502/5000] - MSE Loss: 0.000000\n"
     ]
    }
   ],
   "source": [
    "# Helper for retrieving minibatches of desired size\n",
    "batch_size = 20 # You choose this!\n",
    "dataloader = DataLoader(dataset, batch_size=batch_size, shuffle=True)\n",
    "\n",
    "\n",
    "model = RegressionModel(100, 2)\n",
    "criterion = nn.MSELoss()\n",
    "lr = 0.0008 # TODO\n",
    "optimizer = torch.optim.SGD(model.parameters(), lr = lr) # TODO\n",
    "\n",
    "num_epochs = 5000 # TODO\n",
    "printing_interval = num_epochs // 10 # Avoid printing hundreds or thousands of losses, to keep the notebook cleaner\n",
    "losses_ = []\n",
    "\n",
    "model.train()\n",
    "# TODO: Define loop over epochs \n",
    "for epoch in range(num_epochs):\n",
    "\trunning_loss = 0.0\n",
    "\t# TODO: Define loop over batches\n",
    "\tfor batch, (X, y) in enumerate(dataloader):\n",
    "\t\n",
    "\t\t# 1) TODO: Zero the gradients\n",
    "\t\toptimizer.zero_grad()\n",
    "\t\t# 2) TODO: Forward pass\n",
    "\t\tpred = model(X)\n",
    "\t\t# 3) TODO: Compute loss (MSE)\n",
    "\t\tloss = criterion(pred, y)\n",
    "\t\t# 4) TODO: Backprop\n",
    "\t\tloss.backward()\n",
    "\t\t# 5) TODO: Update parameters\n",
    "\t\toptimizer.step()\n",
    "\n",
    "\t\trunning_loss += loss.item()\n",
    "\n",
    "\tavg_loss = running_loss / len(dataloader)\n",
    "\tlosses_.append(avg_loss)\n",
    "\n",
    "\tif(epoch % printing_interval == 1):\n",
    "\t\tprint(f\"Epoch [{epoch+1}/{num_epochs}] - MSE Loss: {avg_loss:.6f}\")"
   ]
  },
  {
   "cell_type": "markdown",
   "id": "27acb6b3",
   "metadata": {},
   "source": [
    "#### d) Computing the gradient norms\n",
    "\n",
    "Practice extracting information about a trained model, by computing the gradient norms that were used to analyse SGD behavior during the lectures. No need to do anything with the gradient norms, just show that you can compute them."
   ]
  },
  {
   "cell_type": "code",
   "execution_count": 18,
   "id": "311a40aa",
   "metadata": {},
   "outputs": [
    {
     "name": "stdout",
     "output_type": "stream",
     "text": [
      "Gradient Norm stats for evaluation pass:\n",
      "  Mean  : 0.000009\n",
      "  Std   : 0.000000\n"
     ]
    }
   ],
   "source": [
    "# Switch to evaluation mode -- we are no longer training!\n",
    "model.eval()\n",
    "\n",
    "grad_norms = []  # to store gradient norms for each batch\n",
    "\n",
    "# TODO: Define loop over batches\n",
    "for batch, (X, y) in enumerate(dataloader):\n",
    "\n",
    "\t# Compute squared L2 norm across all model parameter gradients\n",
    "\t# Hints:\n",
    "\t# - You again need to first evaluate the gradient of the loss wrt to the model parameters\n",
    "\t# - You can extract a list of all model parameters with model.parameters()\n",
    "\t# - For each parameter p in model.parameters(), you can access the gradient with p.grad\n",
    "\tbatch_size = X.shape[0]\n",
    "\tbatch_norms = []\n",
    "\n",
    "\t# Compute per-sample gradients\n",
    "\tfor i in range(batch_size):\n",
    "\t\tpred_i = model(X[i].unsqueeze(0))\n",
    "\t\tloss_i = criterion(pred_i, y[i].unsqueeze(0))\n",
    "\t\tsample_grads = torch.autograd.grad(outputs = loss_i, inputs = list(model.parameters()))\n",
    "\n",
    "\t\t# Compute squared L2 norm of sample_i gradients\n",
    "\t\tgrad_norm = sum(torch.norm(grad, p = 2) ** 2 for grad in sample_grads).item()\n",
    "\t\tbatch_norms.append(grad_norm)\n",
    "\n",
    "\t# Store the average norm for this batch\n",
    "\tgrad_norms.append(np.mean(batch_norms))\n",
    "\n",
    "# Convert to numpy array for statistics\n",
    "grad_norms = np.array(grad_norms)\n",
    "mean_gn = np.mean(grad_norms) # TODO\n",
    "var_gn  = np.var(grad_norms) # TODO\n",
    "\n",
    "print(\"Gradient Norm stats for evaluation pass:\")\n",
    "print(f\"  Mean  : {mean_gn:.6f}\")\n",
    "print(f\"  Std   : {var_gn:.6f}\")"
   ]
  },
  {
   "cell_type": "markdown",
   "id": "8c173449-0811-48b1-a2bc-50aa9d184b60",
   "metadata": {},
   "source": [
    "#### e) Reporting\n",
    "\n",
    "**Edit this cell directly to write your answers.** You should print the values within the code blocks, but also copy them here for ease of grading. You can also write any other remarks you may have in this cell.\n",
    "\n",
    "##### Optimizer settings: \n",
    "\n",
    "In order to train the neural network I used the following tutorial coming from the standard documentation https://www.google.com/url?sa=t&source=web&rct=j&opi=89978449&url=https://pytorch.org/tutorials/beginner/basics/optimization_tutorial.html&ved=2ahUKEwiYn4DFj7SMAxWTKxAIHT9IARoQFnoECCAQAQ&usg=AOvVaw2U0s-gl9fpQq-sceRXwNdI in which the suggested optimizer was SGD so I decided to use it as well. The parameters for the optimizers are model.parameters(), learning rate set to 0.0008, batch size is set to 20, 5000 epochs.\n",
    "\n",
    "##### Optimization speed:\n",
    "\n",
    "I reached the loss threshold after around 4000 epochs.\n",
    "\n",
    "##### The gradient norms:\n",
    "\n",
    "After training the model, the gradient norm mean is 0.000009 and the variance over the batches is 0.000000."
   ]
  },
  {
   "cell_type": "code",
   "execution_count": 16,
   "id": "88fd401c-c9a6-4850-9219-29f2f19f4ef5",
   "metadata": {},
   "outputs": [
    {
     "data": {
      "image/png": "[encoded data removed]",
      "text/plain": [
       "<Figure size 640x480 with 1 Axes>"
      ]
     },
     "metadata": {},
     "output_type": "display_data"
    }
   ],
   "source": [
    "# Plot the loss as function of epochs, using log-scale for the y-axis\n",
    "plt.plot(losses_)\n",
    "plt.yscale(\"log\")\n",
    "plt.xlabel(\"Epochs\")\n",
    "plt.ylabel(\"Loss\")\n",
    "plt.title(\"Loss vs Epochs (log-scale)\")\n",
    "plt.grid()\n",
    "plt.tight_layout()\n",
    "plt.show()"
   ]
  },
  {
   "cell_type": "markdown",
   "id": "e43dd42e",
   "metadata": {},
   "source": [
    "=========\n",
    "\n",
    "### Problem 2"
   ]
  },
  {
   "cell_type": "markdown",
   "id": "361f9014-7dc5-406f-aa27-afbbe26b8f11",
   "metadata": {},
   "source": [
    "#### a) Generate training/testing data\n",
    "\n",
    "Do not change this part. The code snippet greates synthetic data by feeding random inputs through randomly initialized neural network."
   ]
  },
  {
   "cell_type": "code",
   "execution_count": 2,
   "id": "0dbd36f1-0ecc-49af-85e6-61631a2136e2",
   "metadata": {},
   "outputs": [],
   "source": [
    "# N samples with D inputs and O outputs\n",
    "N = 100\n",
    "D = 10\n",
    "O = 5\n",
    "\n",
    "# Random mapping from x to y, as small neural network\n",
    "class CreationModel(nn.Module):\n",
    "  def __init__(self, D, O, M):\n",
    "    super().__init__()\n",
    "    self.layers = nn.Sequential(\n",
    "      nn.Linear(D, M),\n",
    "      nn.Tanh(),\n",
    "      nn.Linear(M, O)\n",
    "    )\n",
    "\n",
    "  def forward(self, x):\n",
    "    return self.layers(x)\n",
    "\n",
    "# For getting the same data\n",
    "torch.manual_seed(78798)\n",
    "\n",
    "# Training data\n",
    "x = torch.randn(N, D)\n",
    "noiselevel = 0.1\n",
    "modelGenerate = CreationModel(D,O,5)\n",
    "modelGenerate.eval()\n",
    "y = modelGenerate(x).clone().detach() + noiselevel*torch.randn(N, O)\n",
    "\n",
    "# Test data\n",
    "N_test = 10000\n",
    "x_test = torch.randn(N_test, D)\n",
    "y_test = modelGenerate(x_test).clone().detach()  + noiselevel*torch.randn(N_test, O)"
   ]
  },
  {
   "cell_type": "markdown",
   "id": "54ae6dff-fd03-4b3b-872b-6a3bc9d5d7f7",
   "metadata": {},
   "source": [
    "##### Pre-defined model\n",
    "\n",
    "Do not change this part. The parameter $M$ controls the size/complexity of the network."
   ]
  },
  {
   "cell_type": "code",
   "execution_count": 3,
   "id": "a7f9fba9-6817-43ea-86fc-c2b0a2f8a7fc",
   "metadata": {},
   "outputs": [],
   "source": [
    "class RegressionModel(nn.Module):\n",
    "  def __init__(self, D, O, M):\n",
    "    super().__init__()\n",
    "    self.layers = nn.Sequential(\n",
    "      nn.Linear(D, M),\n",
    "      nn.ReLU(),\n",
    "      nn.Linear(M, M),\n",
    "      nn.ReLU(),\n",
    "      nn.Linear(M, O)\n",
    "    )\n",
    "\n",
    "  def forward(self, x):\n",
    "    return self.layers(x)"
   ]
  },
  {
   "cell_type": "markdown",
   "id": "e9682148-ec80-4bf8-afc9-6e0eea3126ae",
   "metadata": {},
   "source": [
    "#### b) Train model and validate the double descent principle"
   ]
  },
  {
   "cell_type": "code",
   "execution_count": 4,
   "id": "287db507-0292-47cd-8d83-773806614813",
   "metadata": {},
   "outputs": [
    {
     "name": "stdout",
     "output_type": "stream",
     "text": [
      "Model complexity[2/60] - Epoch [1/5000] - MSE Loss: 0.310571\n",
      "Model complexity[2/60] - Epoch [501/5000] - MSE Loss: 0.037955\n",
      "Model complexity[2/60] - Epoch [1001/5000] - MSE Loss: 0.037882\n",
      "Model complexity[2/60] - Epoch [1501/5000] - MSE Loss: 0.037880\n",
      "Model complexity[2/60] - Epoch [2001/5000] - MSE Loss: 0.037880\n",
      "Model complexity[2/60] - Epoch [2501/5000] - MSE Loss: 0.037880\n",
      "Model complexity[2/60] - Epoch [3001/5000] - MSE Loss: 0.037880\n",
      "Model complexity[2/60] - Epoch [3501/5000] - MSE Loss: 0.037880\n",
      "Model complexity[2/60] - Epoch [4001/5000] - MSE Loss: 0.037880\n",
      "Model complexity[2/60] - Epoch [4501/5000] - MSE Loss: 0.037881\n",
      "Model complexity[3/60] - Epoch [1/5000] - MSE Loss: 0.274720\n",
      "Model complexity[3/60] - Epoch [501/5000] - MSE Loss: 0.015315\n",
      "Model complexity[3/60] - Epoch [1001/5000] - MSE Loss: 0.015112\n",
      "Model complexity[3/60] - Epoch [1501/5000] - MSE Loss: 0.015077\n",
      "Model complexity[3/60] - Epoch [2001/5000] - MSE Loss: 0.014994\n",
      "Model complexity[3/60] - Epoch [2501/5000] - MSE Loss: 0.014964\n",
      "Model complexity[3/60] - Epoch [3001/5000] - MSE Loss: 0.014951\n",
      "Model complexity[3/60] - Epoch [3501/5000] - MSE Loss: 0.014945\n",
      "Model complexity[3/60] - Epoch [4001/5000] - MSE Loss: 0.014950\n",
      "Model complexity[3/60] - Epoch [4501/5000] - MSE Loss: 0.014941\n",
      "Model complexity[4/60] - Epoch [1/5000] - MSE Loss: 0.135819\n",
      "Model complexity[4/60] - Epoch [501/5000] - MSE Loss: 0.014833\n",
      "Model complexity[4/60] - Epoch [1001/5000] - MSE Loss: 0.014756\n",
      "Model complexity[4/60] - Epoch [1501/5000] - MSE Loss: 0.014603\n",
      "Model complexity[4/60] - Epoch [2001/5000] - MSE Loss: 0.014595\n",
      "Model complexity[4/60] - Epoch [2501/5000] - MSE Loss: 0.014524\n",
      "Model complexity[4/60] - Epoch [3001/5000] - MSE Loss: 0.014517\n",
      "Model complexity[4/60] - Epoch [3501/5000] - MSE Loss: 0.014208\n",
      "Model complexity[4/60] - Epoch [4001/5000] - MSE Loss: 0.014197\n",
      "Model complexity[4/60] - Epoch [4501/5000] - MSE Loss: 0.014192\n",
      "Model complexity[5/60] - Epoch [1/5000] - MSE Loss: 0.266835\n",
      "Model complexity[5/60] - Epoch [501/5000] - MSE Loss: 0.009921\n",
      "Model complexity[5/60] - Epoch [1001/5000] - MSE Loss: 0.009491\n",
      "Model complexity[5/60] - Epoch [1501/5000] - MSE Loss: 0.009259\n",
      "Model complexity[5/60] - Epoch [2001/5000] - MSE Loss: 0.008015\n",
      "Model complexity[5/60] - Epoch [2501/5000] - MSE Loss: 0.007905\n",
      "Model complexity[5/60] - Epoch [3001/5000] - MSE Loss: 0.007901\n",
      "Model complexity[5/60] - Epoch [3501/5000] - MSE Loss: 0.007891\n",
      "Model complexity[5/60] - Epoch [4001/5000] - MSE Loss: 0.007884\n",
      "Model complexity[5/60] - Epoch [4501/5000] - MSE Loss: 0.007886\n",
      "Model complexity[6/60] - Epoch [1/5000] - MSE Loss: 0.127166\n",
      "Model complexity[6/60] - Epoch [501/5000] - MSE Loss: 0.007767\n",
      "Model complexity[6/60] - Epoch [1001/5000] - MSE Loss: 0.007646\n",
      "Model complexity[6/60] - Epoch [1501/5000] - MSE Loss: 0.007572\n",
      "Model complexity[6/60] - Epoch [2001/5000] - MSE Loss: 0.007544\n",
      "Model complexity[6/60] - Epoch [2501/5000] - MSE Loss: 0.007518\n",
      "Model complexity[6/60] - Epoch [3001/5000] - MSE Loss: 0.007517\n",
      "Model complexity[6/60] - Epoch [3501/5000] - MSE Loss: 0.007518\n",
      "Model complexity[6/60] - Epoch [4001/5000] - MSE Loss: 0.007516\n",
      "Model complexity[6/60] - Epoch [4501/5000] - MSE Loss: 0.007529\n",
      "Model complexity[8/60] - Epoch [1/5000] - MSE Loss: 0.234518\n",
      "Model complexity[8/60] - Epoch [501/5000] - MSE Loss: 0.007091\n",
      "Model complexity[8/60] - Epoch [1001/5000] - MSE Loss: 0.006520\n",
      "Model complexity[8/60] - Epoch [1501/5000] - MSE Loss: 0.006328\n",
      "Model complexity[8/60] - Epoch [2001/5000] - MSE Loss: 0.005939\n",
      "Model complexity[8/60] - Epoch [2501/5000] - MSE Loss: 0.005923\n",
      "Model complexity[8/60] - Epoch [3001/5000] - MSE Loss: 0.005884\n",
      "Model complexity[8/60] - Epoch [3501/5000] - MSE Loss: 0.005909\n",
      "Model complexity[8/60] - Epoch [4001/5000] - MSE Loss: 0.005893\n",
      "Model complexity[8/60] - Epoch [4501/5000] - MSE Loss: 0.005901\n",
      "Model complexity[10/60] - Epoch [1/5000] - MSE Loss: 0.363079\n",
      "Model complexity[10/60] - Epoch [501/5000] - MSE Loss: 0.006733\n",
      "Model complexity[10/60] - Epoch [1001/5000] - MSE Loss: 0.005398\n",
      "Model complexity[10/60] - Epoch [1501/5000] - MSE Loss: 0.004796\n",
      "Model complexity[10/60] - Epoch [2001/5000] - MSE Loss: 0.004380\n",
      "Model complexity[10/60] - Epoch [2501/5000] - MSE Loss: 0.004227\n",
      "Model complexity[10/60] - Epoch [3001/5000] - MSE Loss: 0.004062\n",
      "Model complexity[10/60] - Epoch [3501/5000] - MSE Loss: 0.003973\n",
      "Model complexity[10/60] - Epoch [4001/5000] - MSE Loss: 0.003945\n",
      "Model complexity[10/60] - Epoch [4501/5000] - MSE Loss: 0.003889\n",
      "Model complexity[13/60] - Epoch [1/5000] - MSE Loss: 0.219349\n",
      "Model complexity[13/60] - Epoch [501/5000] - MSE Loss: 0.002755\n",
      "Model complexity[13/60] - Epoch [1001/5000] - MSE Loss: 0.002077\n",
      "Model complexity[13/60] - Epoch [1501/5000] - MSE Loss: 0.001819\n",
      "Model complexity[13/60] - Epoch [2001/5000] - MSE Loss: 0.001614\n",
      "Model complexity[13/60] - Epoch [2501/5000] - MSE Loss: 0.001522\n",
      "Model complexity[13/60] - Epoch [3001/5000] - MSE Loss: 0.001512\n",
      "Model complexity[13/60] - Epoch [3501/5000] - MSE Loss: 0.001473\n",
      "Model complexity[13/60] - Epoch [4001/5000] - MSE Loss: 0.001424\n",
      "Model complexity[13/60] - Epoch [4501/5000] - MSE Loss: 0.001409\n",
      "Model complexity[17/60] - Epoch [1/5000] - MSE Loss: 0.171698\n",
      "Model complexity[17/60] - Epoch [501/5000] - MSE Loss: 0.001941\n",
      "Model complexity[17/60] - Epoch [1001/5000] - MSE Loss: 0.000905\n",
      "Model complexity[17/60] - Epoch [1501/5000] - MSE Loss: 0.000575\n",
      "Model complexity[17/60] - Epoch [2001/5000] - MSE Loss: 0.000473\n",
      "Model complexity[17/60] - Epoch [2501/5000] - MSE Loss: 0.000392\n",
      "Model complexity[17/60] - Epoch [3001/5000] - MSE Loss: 0.000441\n",
      "Model complexity[17/60] - Epoch [3501/5000] - MSE Loss: 0.000395\n",
      "Model complexity[17/60] - Epoch [4001/5000] - MSE Loss: 0.000439\n",
      "Model complexity[17/60] - Epoch [4501/5000] - MSE Loss: 0.000301\n",
      "Model complexity[22/60] - Epoch [1/5000] - MSE Loss: 0.166854\n",
      "Model complexity[22/60] - Epoch [501/5000] - MSE Loss: 0.000251\n",
      "Model complexity[28/60] - Epoch [1/5000] - MSE Loss: 0.239881\n",
      "Model complexity[36/60] - Epoch [1/5000] - MSE Loss: 0.174375\n",
      "Model complexity[47/60] - Epoch [1/5000] - MSE Loss: 0.254081\n",
      "Model complexity[60/60] - Epoch [1/5000] - MSE Loss: 0.137301\n"
     ]
    }
   ],
   "source": [
    "# Use full data for gradients\n",
    "B = N\n",
    "data_loader = DataLoader(TensorDataset(x,y), batch_size=B, shuffle=True)\n",
    "\n",
    "# Loop over some range of M values. With these parameters logspace generates M=2 twice, so dropping the first entry\n",
    "Mvalues = np.logspace(np.log10(2),np.log10(60),num=15,dtype='int')[1:]\n",
    "losses = np.zeros((len(Mvalues),2))\n",
    "for M_index, M in enumerate(Mvalues):\n",
    "\t# TODO: Define the model\n",
    "\tmodel = RegressionModel(D, O, M)\n",
    "\t# TODO: Train it until convergence\n",
    "\tmodel.train()\n",
    "\tlr = 0.009\n",
    "\toptimizer = torch.optim.Adam(model.parameters(), lr=lr)\n",
    "\tnum_epochs = 5000\n",
    "\tprinting_interval = num_epochs // 10\n",
    "\tcriterion = nn.MSELoss()\n",
    "\tfor epoch in range(num_epochs):\n",
    "\t\trunning_loss = 0.0\n",
    "\t\tfor batch, (X, target_y) in enumerate(data_loader):\n",
    "\t\t\toptimizer.zero_grad()\n",
    "\t\t\tloss = criterion(model(X), target_y)\n",
    "\t\t\tloss.backward()\n",
    "\t\t\toptimizer.step()\n",
    "\t\t\trunning_loss += loss.item()\n",
    "\t\tavg_loss = running_loss / len(data_loader)\n",
    "\t\tif(epoch % printing_interval == 0):\n",
    "\t\t\tprint(f\"Model complexity[{M}/{Mvalues.max()}] - Epoch [{epoch+1}/{num_epochs}] - MSE Loss: {avg_loss:.6f}\")\n",
    "\t\tif avg_loss < 0.0001: break\n",
    "\t# TODO: Evaluate both training and test error, and store them\n",
    "\tmodel.eval()\n",
    "\twith torch.no_grad():\n",
    "\t\ttrain_predictions = model(x)\n",
    "\t\ttrainloss = criterion(train_predictions, y)\n",
    "\n",
    "\t\ttest_predictions = model(x_test)\n",
    "\t\ttestloss = criterion(test_predictions, y_test)\n",
    "\tlosses[M_index,0] = trainloss.item()\n",
    "\tlosses[M_index,1] = testloss.item()"
   ]
  },
  {
   "cell_type": "markdown",
   "id": "f8494fe7",
   "metadata": {},
   "source": [
    "##### Plot the final training loss and the final test loss\n",
    "\n",
    "The code below is provided as an example; you may need to modify it to be compatible with your results. Make some effort to make the plot easy to read."
   ]
  },
  {
   "cell_type": "code",
   "execution_count": 5,
   "id": "245266e3",
   "metadata": {},
   "outputs": [
    {
     "data": {
      "image/png": "[encoded data removed]",
      "text/plain": [
       "<Figure size 640x480 with 1 Axes>"
      ]
     },
     "metadata": {},
     "output_type": "display_data"
    }
   ],
   "source": [
    "plt.loglog(Mvalues, losses[:,0], 'b-')\n",
    "plt.loglog(Mvalues, losses[:,1], 'b:')\n",
    "plt.legend(['Training loss', 'Test loss'])\n",
    "plt.grid()\n",
    "ax = plt.gca(); ax.set_ylim([10**(-5),10**(0)])\n",
    "ax.set_ylabel(\"MSE\")\n",
    "ax.set_xlabel(\"Number of neurons\")\n",
    "# Customize x-axis to show more detailed labels\n",
    "from matplotlib.ticker import LogLocator, ScalarFormatter\n",
    "ax.xaxis.set_major_locator(LogLocator(base=10.0, subs=np.arange(1, 10)))\n",
    "ax.xaxis.set_major_formatter(ScalarFormatter())\n",
    "plt.show()"
   ]
  },
  {
   "cell_type": "markdown",
   "id": "4f7de7b2-e7ce-4141-8bb5-eb5ce0b6a525",
   "metadata": {},
   "source": [
    "##### c) Having more data can hurt\n",
    "\n",
    "Show that increasing the amount of data helps when around the interpolation threshold, but that for overparameterized model it may hurt."
   ]
  },
  {
   "cell_type": "code",
   "execution_count": 6,
   "id": "bc54f5b2",
   "metadata": {},
   "outputs": [
    {
     "name": "stdout",
     "output_type": "stream",
     "text": [
      "Model complexity[10/60] - Epoch [1/5000] - MSE Loss: 0.123761\n",
      "Model complexity[10/60] - Epoch [501/5000] - MSE Loss: 0.009680\n",
      "Model complexity[10/60] - Epoch [1001/5000] - MSE Loss: 0.009480\n",
      "Model complexity[10/60] - Epoch [1501/5000] - MSE Loss: 0.009462\n",
      "Model complexity[10/60] - Epoch [2001/5000] - MSE Loss: 0.009286\n",
      "Model complexity[10/60] - Epoch [2501/5000] - MSE Loss: 0.009316\n",
      "Model complexity[10/60] - Epoch [3001/5000] - MSE Loss: 0.009211\n",
      "Model complexity[10/60] - Epoch [3501/5000] - MSE Loss: 0.009297\n",
      "Model complexity[10/60] - Epoch [4001/5000] - MSE Loss: 0.009264\n",
      "Model complexity[10/60] - Epoch [4501/5000] - MSE Loss: 0.009159\n",
      "Model complexity[60/60] - Epoch [1/5000] - MSE Loss: 0.094308\n",
      "Model complexity[60/60] - Epoch [501/5000] - MSE Loss: 0.001108\n",
      "Model complexity[60/60] - Epoch [1001/5000] - MSE Loss: 0.000863\n",
      "Model complexity[60/60] - Epoch [1501/5000] - MSE Loss: 0.000528\n",
      "Model complexity[60/60] - Epoch [2001/5000] - MSE Loss: 0.000522\n",
      "Model complexity[60/60] - Epoch [2501/5000] - MSE Loss: 0.000390\n",
      "Model complexity[60/60] - Epoch [3001/5000] - MSE Loss: 0.000557\n",
      "Model complexity[60/60] - Epoch [3501/5000] - MSE Loss: 0.000286\n",
      "Model complexity[60/60] - Epoch [4001/5000] - MSE Loss: 0.000366\n",
      "Model complexity[60/60] - Epoch [4501/5000] - MSE Loss: 0.000371\n",
      "Test losses\n",
      "Model params: 10, train loss: 0.013308558613061905, test loss: 0.012940410524606705\n",
      "Model params: 60, train loss: 0.03282306715846062, test loss: 0.03133542835712433\n"
     ]
    }
   ],
   "source": [
    "# Generate the larger training set, using the same process as before\n",
    "N_large = 500\n",
    "x_large = torch.randn(N_large, D)\n",
    "y_large = modelGenerate(x_large).clone().detach() + noiselevel*torch.randn(N_large, O)\n",
    "\n",
    "# TODO: Identify two values of M you need to answer the question\n",
    "Mvalues = [10, 60]\n",
    "\n",
    "# TODO: Repeat the training process for those options. Note that you can use the same code as before, \n",
    "# since you only changed the data and the set of M\n",
    "data_loader = DataLoader(TensorDataset(x_large, y_large), batch_size=B, shuffle=True)\n",
    "x_large_losses = np.zeros((len(Mvalues),2))\n",
    "for M_index, M in enumerate(Mvalues):\n",
    "\t# TODO: Define the model\n",
    "\tmodel = RegressionModel(D, O, M)\n",
    "\t# TODO: Train it until convergence\n",
    "\tmodel.train()\n",
    "\tlr = 0.009\n",
    "\toptimizer = torch.optim.Adam(model.parameters(), lr=lr)\n",
    "\tnum_epochs = 5000\n",
    "\tprinting_interval = num_epochs // 10\n",
    "\tcriterion = nn.MSELoss()\n",
    "\tfor epoch in range(num_epochs):\n",
    "\t\trunning_loss = 0.0\n",
    "\t\tfor batch, (X, target_y) in enumerate(data_loader):\n",
    "\t\t\toptimizer.zero_grad()\n",
    "\t\t\tloss = criterion(model(X), target_y)\n",
    "\t\t\tloss.backward()\n",
    "\t\t\toptimizer.step()\n",
    "\t\t\trunning_loss += loss.item()\n",
    "\t\tavg_loss = running_loss / len(data_loader)\n",
    "\t\tif(epoch % printing_interval == 0):\n",
    "\t\t\tprint(f\"Model complexity[{M}/{max(Mvalues)}] - Epoch [{epoch+1}/{num_epochs}] - MSE Loss: {avg_loss:.6f}\")\n",
    "\t\tif avg_loss < 0.0001: break\n",
    "\t# TODO: Evaluate both training and test error, and store them\n",
    "\tmodel.eval()\n",
    "\twith torch.no_grad():\n",
    "\t\ttrain_predictions = model(x)\n",
    "\t\ttrainloss = criterion(train_predictions, y)\n",
    "\n",
    "\t\ttest_predictions = model(x_test)\n",
    "\t\ttestloss = criterion(test_predictions, y_test)\n",
    "\tx_large_losses[M_index,0] = trainloss.item()\n",
    "\tx_large_losses[M_index,1] = testloss.item()\n",
    "print(\"Test losses\")\n",
    "# TODO\n",
    "for M_idx, M in enumerate(Mvalues):\n",
    "\tprint(f\"Model params: {M}, train loss: {x_large_losses[M_idx, 0]}, test loss: {x_large_losses[M_idx, 1]}\")"
   ]
  },
  {
   "cell_type": "markdown",
   "id": "0561e620",
   "metadata": {},
   "source": [
    "#### Reporting\n",
    "\n",
    "**Edit this cell directly to report the requested information.**\n",
    "\n",
    "##### Interpolation threshold\n",
    "\n",
    "The interpolation threshold is around M = 10\n",
    "\n",
    "For that M, the model has in total D * M + M * M + M * O = 10 * 10 + 10 * 10 + 10 * 5 = 250 parameters. Since the model is not disabling bias addition the final result is (D * M + M) + (M * M + M) + (M * O + O) = 275 parameters\n",
    "\n",
    "Explain the findings. Do you observe the expected pattern? If not, what might have been a problem? The interpolation treshold is around the 10 neuron mark, where the input size equals the network size. As we see in the plot the further the complexity goes the lower the test error, implitying that the double descent phenomenon works. The pattern observed in the plot is the expected one, in other words the interpolation treshold is around where the size of the network exceeds the input size.\n",
    "\n",
    "##### More data can hurt\n",
    "\n",
    "TODO: Explain your choices of M values, report the test errors for the different amounts of training data, and explain the findings.\n",
    "The chosen values of M are 10 and 60, since both values have previously been analyzed. The test errors for the 10 model are 0.0590161569416523 for 100 dataset size and 0.012940410524606705 for 500 dataset size. Since 10 is around the treshold we can see that more data in fact does help decrease the test error. On the other hand the test errors for the 60 model are 0.022971013560891151 for 100 dataset size and 0.03133542835712433 for 500 dataset size. We can in fact notice that if we increase the dataset size we do not obtain the benefits of a decreased test error, as expected."
   ]
  },
  {
   "cell_type": "code",
   "execution_count": 7,
   "id": "9df85f0f",
   "metadata": {},
   "outputs": [
    {
     "name": "stdout",
     "output_type": "stream",
     "text": [
      "N = 100, model complexity: 10, test error: 0.0590161569416523\n",
      "N = 100, model complexity: 60, test error: 0.022971013560891151\n",
      "N = 500, model complexity: 10, test error: 0.012940410524606705\n",
      "N = 500, model complexity: 60, test error: 0.03133542835712433\n"
     ]
    }
   ],
   "source": [
    "torch.set_printoptions(sci_mode=False)\n",
    "print(f\"N = 100, model complexity: {10}, test error: {losses[6, 1]}\")\n",
    "print(f\"N = 100, model complexity: {60}, test error: {losses[-1, 1]:.18f}\")\n",
    "print(f\"N = 500, model complexity: {10}, test error: {x_large_losses[0, 1]}\")\n",
    "print(f\"N = 500, model complexity: {60}, test error: {x_large_losses[1, 1]}\")\n",
    "torch.set_printoptions(sci_mode=True)"
   ]
  }
 ],
 "metadata": {
  "kernelspec": {
   "display_name": "nndl",
   "language": "python",
   "name": "python3"
  },
  "language_info": {
   "codemirror_mode": {
    "name": "ipython",
    "version": 3
   },
   "file_extension": ".py",
   "mimetype": "text/x-python",
   "name": "python",
   "nbconvert_exporter": "python",
   "pygments_lexer": "ipython3",
   "version": "3.10.16"
  }
 },
 "nbformat": 4,
 "nbformat_minor": 5
}
