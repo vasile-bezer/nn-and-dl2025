{
 "cells": [
  {
   "cell_type": "markdown",
   "id": "7e5598e8-2871-42ad-95c0-06c01af90387",
   "metadata": {},
   "source": [
    "# 1. Hyperparameter optimization"
   ]
  },
  {
   "cell_type": "markdown",
   "id": "23a567fc-410a-4627-9e2a-0dbce23b8127",
   "metadata": {},
   "source": [
    "To install Optuna: run `pip install optuna` in console after activating your environment."
   ]
  },
  {
   "cell_type": "code",
   "execution_count": 1,
   "id": "4046888a-c3b2-4ed5-afbf-852b37af5d0d",
   "metadata": {},
   "outputs": [
    {
     "name": "stderr",
     "output_type": "stream",
     "text": [
      "/home/percy/.local/lib/python3.10/site-packages/tqdm/auto.py:21: TqdmWarning: IProgress not found. Please update jupyter and ipywidgets. See https://ipywidgets.readthedocs.io/en/stable/user_install.html\n",
      "  from .autonotebook import tqdm as notebook_tqdm\n"
     ]
    },
    {
     "data": {
      "text/plain": [
       "<torch._C.Generator at 0x73692b7ea750>"
      ]
     },
     "execution_count": 1,
     "metadata": {},
     "output_type": "execute_result"
    }
   ],
   "source": [
    "import torch\n",
    "import torchvision\n",
    "import torchvision.transforms as transforms\n",
    "from torch.utils.data import DataLoader, random_split, ConcatDataset, Subset\n",
    "import torch.nn as nn\n",
    "import torch.nn.functional as F\n",
    "import matplotlib.pyplot as plt\n",
    "import numpy as np\n",
    "import math\n",
    "import optuna\n",
    "import optuna.visualization as vis\n",
    "\n",
    "seed = 42\n",
    "torch.manual_seed(seed)"
   ]
  },
  {
   "cell_type": "markdown",
   "id": "06b39ae3-23c6-4610-a84c-9d76fc3e6416",
   "metadata": {},
   "source": [
    "Load MNIST data. **DO NOT CHANGE THIS.**"
   ]
  },
  {
   "cell_type": "code",
   "execution_count": 2,
   "id": "202b9568-81b1-4051-bfbf-207deb1fb7a4",
   "metadata": {},
   "outputs": [
    {
     "name": "stdout",
     "output_type": "stream",
     "text": [
      "Total training images: 24000\n",
      "Total validation images: 6000\n",
      "Total test images: 10000\n"
     ]
    }
   ],
   "source": [
    "def get_mnist_loaders(batch_size, valid_ratio, seed, downsample_ratio):\n",
    "    # Define the transformation: convert to tensor and normalize\n",
    "    transform = transforms.Compose([\n",
    "        transforms.ToTensor(),\n",
    "        transforms.Normalize((0.1307,), (0.3081,))\n",
    "    ])\n",
    "    \n",
    "    # Load the full training set (train=True returns the 60k training images)\n",
    "    train_dataset = torchvision.datasets.MNIST(\n",
    "        root=\"data\",\n",
    "        train=True,\n",
    "        download=True,\n",
    "        transform=transform\n",
    "    )\n",
    "    \n",
    "    # Optionally downsample the training data\n",
    "    if downsample_ratio < 1.0:\n",
    "        subset_size = int(len(train_dataset) * downsample_ratio)\n",
    "        indices = list(range(subset_size))\n",
    "        train_dataset = Subset(train_dataset, indices)\n",
    "    \n",
    "    # Load the test set (train=False returns the 10k testing images)\n",
    "    test_dataset = torchvision.datasets.MNIST(\n",
    "        root=\"data\",\n",
    "        train=False,\n",
    "        download=True,\n",
    "        transform=transform\n",
    "    )\n",
    "    \n",
    "    # Split training set into training and validation set\n",
    "    train_size = int((1.0 - valid_ratio) * len(train_dataset))\n",
    "    valid_size = len(train_dataset) - train_size\n",
    "    gen = torch.Generator().manual_seed(seed)\n",
    "    train_dataset, valid_dataset = random_split(train_dataset, [train_size, valid_size], generator=gen)\n",
    "    \n",
    "    # DataLoaders\n",
    "    train_loader = DataLoader(train_dataset, batch_size=batch_size, shuffle=True)\n",
    "    valid_loader = DataLoader(valid_dataset, batch_size=batch_size, shuffle=False)\n",
    "    test_loader  = DataLoader(test_dataset,  batch_size=batch_size, shuffle=False)\n",
    "    \n",
    "    return train_loader, valid_loader, test_loader\n",
    "\n",
    "batch_size = 128\n",
    "valid_ratio = 0.2\n",
    "downsample_ratio = 0.5\n",
    "\n",
    "# Create the DataLoaders\n",
    "train_loader, valid_loader, test_loader = get_mnist_loaders(batch_size=batch_size, \n",
    "                                                              valid_ratio=valid_ratio, \n",
    "                                                              seed=seed,\n",
    "                                                              downsample_ratio=downsample_ratio)\n",
    "\n",
    "# Total number of images in each dataset\n",
    "print(\"Total training images:\", len(train_loader.dataset))\n",
    "print(\"Total validation images:\", len(valid_loader.dataset))\n",
    "print(\"Total test images:\", len(test_loader.dataset))"
   ]
  },
  {
   "cell_type": "markdown",
   "id": "fe935f6a-2b13-4f02-861e-23e1e8f49002",
   "metadata": {},
   "source": [
    "## (1a) Implement CNN\n",
    "\n",
    "Write here the network structure as described in the exercise sheet.\n",
    "\n",
    "Remember to **make the kernel size a parameter**, so that it can be controlled later."
   ]
  },
  {
   "cell_type": "code",
   "execution_count": 3,
   "id": "96ecc5eb-df11-49b7-b3cd-5171f6ae735e",
   "metadata": {},
   "outputs": [],
   "source": [
    "class CNN(nn.Module):\n",
    "\t# TODO\n",
    "\tdef __init__(self, kernel_size):\n",
    "\t\tsuper(CNN, self).__init__()\n",
    "\n",
    "\t\tself.conv1 = nn.Conv2d(in_channels = 1, out_channels = 16, kernel_size = kernel_size)\n",
    "\t\tconv_output_size = 28 - kernel_size + 1\n",
    "\t\tmax_pooled_size = conv_output_size // 2\n",
    "\t\tself.flat_size = 16 * max_pooled_size ** 2\n",
    "\t\tself.fc1 = nn.Linear(in_features = self.flat_size, out_features = 32)\n",
    "\t\tself.fc2 = nn.Linear(in_features = 32, out_features = 10)\n",
    "\n",
    "\tdef forward(self, x):\n",
    "\t\t\t# 1st layer \t\n",
    "\t\t\tfirst_layer_out = F.relu(input = self.conv1(x))\n",
    "\t\t\t# max pool layer\n",
    "\t\t\tmax_pool_layer_out = F.max_pool2d(input = first_layer_out, kernel_size = 2, stride = 2).view(-1, self.flat_size)\n",
    "\t\t\t# 3rd layer\n",
    "\t\t\tx = F.relu(input = self.fc1(max_pool_layer_out))\n",
    "\t\t\t# 4th layer\n",
    "\t\t\treturn F.log_softmax(input = self.fc2(x), dim = 1)"
   ]
  },
  {
   "cell_type": "markdown",
   "id": "f10fc8a2-2ccb-4c62-935e-8437206c77c0",
   "metadata": {},
   "source": [
    "#### (1b & 1c) Train&Test Functions\n",
    "\n",
    "To help focus on tuning optimizers and networks, we provided 3 pre-written functions for training and testing.\n",
    "\n",
    "By having clear functions, we can easily compare different settings and keep the process consistent.\n",
    "\n",
    "**You do not need to change anything in this part.**"
   ]
  },
  {
   "cell_type": "code",
   "execution_count": 4,
   "id": "c2c47dd7-0f6b-440f-9ea9-0cdbb4c762eb",
   "metadata": {},
   "outputs": [],
   "source": [
    "# Training function.\n",
    "def train(net, train_loader, parameters, epochs=1):\n",
    "    optimizer = torch.optim.SGD(net.parameters(), lr=parameters[\"lr\"], momentum=parameters[\"momentum\"])\n",
    "    criterion = nn.NLLLoss()\n",
    "    net.train()\n",
    "    for epoch in range(epochs):\n",
    "        for images, labels in train_loader:\n",
    "            optimizer.zero_grad()\n",
    "            outputs = net(images)\n",
    "            loss = criterion(outputs, labels)\n",
    "            loss.backward()\n",
    "            optimizer.step()\n",
    "    return net\n",
    "\n",
    "# Evaluation function.\n",
    "def evaluate(net, data_loader):\n",
    "    net.eval()\n",
    "    correct = 0\n",
    "    total = 0\n",
    "    with torch.no_grad():\n",
    "        for images, labels in data_loader:\n",
    "            outputs = net(images)\n",
    "            predictions = outputs.argmax(dim=1)\n",
    "            correct += (predictions == labels).sum().item()\n",
    "            total += labels.size(0)\n",
    "    accuracy = correct / total\n",
    "    return accuracy\n",
    "\n",
    "# Function for final training using best params on combined train and validation sets, then testing.\n",
    "def train_test(parameters):\n",
    "    combined_dataset = ConcatDataset([train_loader.dataset, valid_loader.dataset])\n",
    "    combined_loader = DataLoader(combined_dataset, batch_size=batch_size, shuffle=True)\n",
    "    \n",
    "    net = CNN(kernel_size=parameters[\"kernel_size\"])\n",
    "    net = train(net, combined_loader, parameters)\n",
    "    test_accuracy = evaluate(net, test_loader)\n",
    "    return test_accuracy"
   ]
  },
  {
   "cell_type": "markdown",
   "id": "41c15c5e-7586-41bf-aeeb-453aa53a9a91",
   "metadata": {},
   "source": [
    "## (1b) Bayesian optimization using Optuna\n",
    "\n",
    "Optuna requires an objective for the optimization.\n",
    "\n",
    "Our objective returns validation accuracy, and we use **direction=\"maximize\".**\n",
    "\n",
    "So, we aim to maximize the accuracy of the validation dataset.\n",
    "\n",
    "**Here, your task is to define the hyperparameter search spaces** (suggested hyperparameters).\n",
    "\n",
    "Here you can see the documentary page for search spaces:\n",
    "\n",
    "https://optuna.readthedocs.io/en/stable/tutorial/10_key_features/002_configurations.html"
   ]
  },
  {
   "cell_type": "code",
   "execution_count": 5,
   "id": "618da3a6-3097-470a-9c04-fc720c6fa627",
   "metadata": {},
   "outputs": [
    {
     "name": "stderr",
     "output_type": "stream",
     "text": [
      "[I 2025-04-07 19:32:00,520] A new study created in memory with name: no-name-19e35073-8c3c-4288-823d-93e68b4c1f12\n",
      "[I 2025-04-07 19:32:07,290] Trial 0 finished with value: 0.9065 and parameters: {'lr': 0.0037460266483547782, 'momentum': 0.9507143064099162, 'kernel_size': 3}. Best is trial 0 with value: 0.9065.\n",
      "[I 2025-04-07 19:32:13,881] Trial 1 finished with value: 0.6105 and parameters: {'lr': 0.0015607892088416904, 'momentum': 0.05808361216819946, 'kernel_size': 3}. Best is trial 0 with value: 0.9065.\n",
      "[I 2025-04-07 19:32:20,438] Trial 2 finished with value: 0.7906666666666666 and parameters: {'lr': 0.00020682435846372868, 'momentum': 0.9699098521619943, 'kernel_size': 3}. Best is trial 0 with value: 0.9065.\n",
      "[I 2025-04-07 19:32:26,971] Trial 3 finished with value: 0.735 and parameters: {'lr': 0.001834861694024485, 'momentum': 0.3042422429595377, 'kernel_size': 3}. Best is trial 0 with value: 0.9065.\n",
      "[I 2025-04-07 19:32:33,446] Trial 4 finished with value: 0.8556666666666667 and parameters: {'lr': 0.006118917094329073, 'momentum': 0.13949386065204183, 'kernel_size': 7}. Best is trial 0 with value: 0.9065.\n",
      "[I 2025-04-07 19:32:39,851] Trial 5 finished with value: 0.8696666666666667 and parameters: {'lr': 0.007851974437968742, 'momentum': 0.19967378215835974, 'kernel_size': 5}. Best is trial 0 with value: 0.9065.\n",
      "[I 2025-04-07 19:32:46,547] Trial 6 finished with value: 0.8653333333333333 and parameters: {'lr': 0.006075840974162483, 'momentum': 0.17052412368729153, 'kernel_size': 7}. Best is trial 0 with value: 0.9065.\n",
      "[I 2025-04-07 19:32:53,056] Trial 7 finished with value: 0.8855 and parameters: {'lr': 0.008084165083816494, 'momentum': 0.3046137691733707, 'kernel_size': 5}. Best is trial 0 with value: 0.9065.\n",
      "[I 2025-04-07 19:32:59,366] Trial 8 finished with value: 0.635 and parameters: {'lr': 0.0012212603102129435, 'momentum': 0.4951769101112702, 'kernel_size': 5}. Best is trial 0 with value: 0.9065.\n",
      "[I 2025-04-07 19:33:05,837] Trial 9 finished with value: 0.8736666666666667 and parameters: {'lr': 0.006625560321255467, 'momentum': 0.31171107608941095, 'kernel_size': 5}. Best is trial 0 with value: 0.9065.\n",
      "[I 2025-04-07 19:33:12,519] Trial 10 finished with value: 0.905 and parameters: {'lr': 0.003745391824067214, 'momentum': 0.9328619999452223, 'kernel_size': 3}. Best is trial 0 with value: 0.9065.\n",
      "[I 2025-04-07 19:33:19,430] Trial 11 finished with value: 0.9126666666666666 and parameters: {'lr': 0.003469162063174812, 'momentum': 0.9900675403074437, 'kernel_size': 3}. Best is trial 11 with value: 0.9126666666666666.\n",
      "[I 2025-04-07 19:33:26,353] Trial 12 finished with value: 0.8938333333333334 and parameters: {'lr': 0.004029612876628652, 'momentum': 0.7789401685023986, 'kernel_size': 3}. Best is trial 11 with value: 0.9126666666666666.\n",
      "[I 2025-04-07 19:33:33,250] Trial 13 finished with value: 0.8835 and parameters: {'lr': 0.0037547335406214154, 'momentum': 0.7650116630003085, 'kernel_size': 3}. Best is trial 11 with value: 0.9126666666666666.\n",
      "[I 2025-04-07 19:33:40,032] Trial 14 finished with value: 0.8718333333333333 and parameters: {'lr': 0.0028592572301425457, 'momentum': 0.768112082301498, 'kernel_size': 3}. Best is trial 11 with value: 0.9126666666666666.\n",
      "[I 2025-04-07 19:33:46,533] Trial 15 finished with value: 0.8758333333333334 and parameters: {'lr': 0.004701077250489038, 'momentum': 0.6071842740332256, 'kernel_size': 3}. Best is trial 11 with value: 0.9126666666666666.\n",
      "[I 2025-04-07 19:33:53,299] Trial 16 finished with value: 0.8975 and parameters: {'lr': 0.0026706437383807514, 'momentum': 0.8890420534596382, 'kernel_size': 7}. Best is trial 11 with value: 0.9126666666666666.\n",
      "[I 2025-04-07 19:33:59,978] Trial 17 finished with value: 0.8985 and parameters: {'lr': 0.009757261219916834, 'momentum': 0.6090738634337444, 'kernel_size': 3}. Best is trial 11 with value: 0.9126666666666666.\n",
      "[I 2025-04-07 19:34:06,887] Trial 18 finished with value: 0.901 and parameters: {'lr': 0.005291301633729808, 'momentum': 0.9948186898550099, 'kernel_size': 3}. Best is trial 11 with value: 0.9126666666666666.\n",
      "[I 2025-04-07 19:34:13,421] Trial 19 finished with value: 0.9006666666666666 and parameters: {'lr': 0.002406710618044801, 'momentum': 0.8469961233886653, 'kernel_size': 7}. Best is trial 11 with value: 0.9126666666666666.\n",
      "[I 2025-04-07 19:34:20,348] Trial 20 finished with value: 0.14966666666666667 and parameters: {'lr': 8.525198351016497e-05, 'momentum': 0.5239357423093253, 'kernel_size': 3}. Best is trial 11 with value: 0.9126666666666666.\n",
      "[I 2025-04-07 19:34:27,222] Trial 21 finished with value: 0.9056666666666666 and parameters: {'lr': 0.003650856173865487, 'momentum': 0.9140892814631402, 'kernel_size': 3}. Best is trial 11 with value: 0.9126666666666666.\n",
      "[I 2025-04-07 19:34:33,953] Trial 22 finished with value: 0.8971666666666667 and parameters: {'lr': 0.003352489079369062, 'momentum': 0.8601865132205013, 'kernel_size': 3}. Best is trial 11 with value: 0.9126666666666666.\n",
      "[I 2025-04-07 19:34:40,502] Trial 23 finished with value: 0.8771666666666667 and parameters: {'lr': 0.004714036010055126, 'momentum': 0.6816266865018636, 'kernel_size': 3}. Best is trial 11 with value: 0.9126666666666666.\n",
      "[I 2025-04-07 19:34:47,087] Trial 24 finished with value: 0.9106666666666666 and parameters: {'lr': 0.0044885415364581405, 'momentum': 0.9957025079016757, 'kernel_size': 3}. Best is trial 11 with value: 0.9126666666666666.\n",
      "[I 2025-04-07 19:34:53,717] Trial 25 finished with value: 0.9081666666666667 and parameters: {'lr': 0.005289203395794402, 'momentum': 0.9972729049559345, 'kernel_size': 3}. Best is trial 11 with value: 0.9126666666666666.\n",
      "[I 2025-04-07 19:35:00,549] Trial 26 finished with value: 0.894 and parameters: {'lr': 0.005471494476120962, 'momentum': 0.8192133958635264, 'kernel_size': 3}. Best is trial 11 with value: 0.9126666666666666.\n",
      "[I 2025-04-07 19:35:07,327] Trial 27 finished with value: 0.8853333333333333 and parameters: {'lr': 0.007415104601168795, 'momentum': 0.9986977034982105, 'kernel_size': 3}. Best is trial 11 with value: 0.9126666666666666.\n",
      "[I 2025-04-07 19:35:13,994] Trial 28 finished with value: 0.8945 and parameters: {'lr': 0.004569798644028855, 'momentum': 0.7408841986358574, 'kernel_size': 7}. Best is trial 11 with value: 0.9126666666666666.\n",
      "[I 2025-04-07 19:35:20,719] Trial 29 finished with value: 0.8965 and parameters: {'lr': 0.006950723815195294, 'momentum': 0.6605992458284582, 'kernel_size': 5}. Best is trial 11 with value: 0.9126666666666666.\n",
      "[I 2025-04-07 19:35:27,731] Trial 30 finished with value: 0.9201666666666667 and parameters: {'lr': 0.008959166967716127, 'momentum': 0.920789551783025, 'kernel_size': 3}. Best is trial 30 with value: 0.9201666666666667.\n",
      "[I 2025-04-07 19:35:34,496] Trial 31 finished with value: 0.9341666666666667 and parameters: {'lr': 0.009448771034611442, 'momentum': 0.9207216121424663, 'kernel_size': 3}. Best is trial 31 with value: 0.9341666666666667.\n",
      "[I 2025-04-07 19:35:41,147] Trial 32 finished with value: 0.9218333333333333 and parameters: {'lr': 0.009870472845064532, 'momentum': 0.9121609058668514, 'kernel_size': 3}. Best is trial 31 with value: 0.9341666666666667.\n",
      "[I 2025-04-07 19:35:47,930] Trial 33 finished with value: 0.9263333333333333 and parameters: {'lr': 0.009796291886075875, 'momentum': 0.9078359979445573, 'kernel_size': 3}. Best is trial 31 with value: 0.9341666666666667.\n",
      "[I 2025-04-07 19:35:54,435] Trial 34 finished with value: 0.9085 and parameters: {'lr': 0.009993855871504637, 'momentum': 0.8719029655168677, 'kernel_size': 3}. Best is trial 31 with value: 0.9341666666666667.\n",
      "[I 2025-04-07 19:36:01,303] Trial 35 finished with value: 0.9266666666666666 and parameters: {'lr': 0.009026668830004688, 'momentum': 0.9260113109319164, 'kernel_size': 3}. Best is trial 31 with value: 0.9341666666666667.\n",
      "[I 2025-04-07 19:36:08,130] Trial 36 finished with value: 0.9135 and parameters: {'lr': 0.009000474919835771, 'momentum': 0.8148451874871503, 'kernel_size': 3}. Best is trial 31 with value: 0.9341666666666667.\n",
      "[I 2025-04-07 19:36:14,762] Trial 37 finished with value: 0.8883333333333333 and parameters: {'lr': 0.009116511126759813, 'momentum': 0.42902790135005975, 'kernel_size': 3}. Best is trial 31 with value: 0.9341666666666667.\n",
      "[I 2025-04-07 19:36:21,018] Trial 38 finished with value: 0.9036666666666666 and parameters: {'lr': 0.008294858190477912, 'momentum': 0.6989749695098271, 'kernel_size': 7}. Best is trial 31 with value: 0.9341666666666667.\n",
      "[I 2025-04-07 19:36:27,516] Trial 39 finished with value: 0.9446666666666667 and parameters: {'lr': 0.009655455673942081, 'momentum': 0.9362710054866563, 'kernel_size': 5}. Best is trial 39 with value: 0.9446666666666667.\n",
      "[I 2025-04-07 19:36:34,194] Trial 40 finished with value: 0.8653333333333333 and parameters: {'lr': 0.008380432581278133, 'momentum': 0.08188115492492543, 'kernel_size': 5}. Best is trial 39 with value: 0.9446666666666667.\n",
      "[I 2025-04-07 19:36:40,616] Trial 41 finished with value: 0.933 and parameters: {'lr': 0.009528042075507604, 'momentum': 0.9181911027165311, 'kernel_size': 5}. Best is trial 39 with value: 0.9446666666666667.\n",
      "[I 2025-04-07 19:36:47,004] Trial 42 finished with value: 0.9476666666666667 and parameters: {'lr': 0.009392994703483344, 'momentum': 0.9439107541732155, 'kernel_size': 5}. Best is trial 42 with value: 0.9476666666666667.\n",
      "[I 2025-04-07 19:36:53,564] Trial 43 finished with value: 0.9476666666666667 and parameters: {'lr': 0.0086851332790394, 'momentum': 0.9444277193519337, 'kernel_size': 5}. Best is trial 42 with value: 0.9476666666666667.\n",
      "[I 2025-04-07 19:37:00,093] Trial 44 finished with value: 0.9208333333333333 and parameters: {'lr': 0.00943293309120513, 'momentum': 0.8402888232729406, 'kernel_size': 5}. Best is trial 42 with value: 0.9476666666666667.\n",
      "[I 2025-04-07 19:37:06,633] Trial 45 finished with value: 0.9508333333333333 and parameters: {'lr': 0.008582400203611082, 'momentum': 0.9479998324226254, 'kernel_size': 5}. Best is trial 45 with value: 0.9508333333333333.\n",
      "[I 2025-04-07 19:37:13,146] Trial 46 finished with value: 0.952 and parameters: {'lr': 0.007683603772986335, 'momentum': 0.9581742708356563, 'kernel_size': 5}. Best is trial 46 with value: 0.952.\n",
      "[I 2025-04-07 19:37:19,380] Trial 47 finished with value: 0.9185 and parameters: {'lr': 0.0076584413778213525, 'momentum': 0.8027989654013132, 'kernel_size': 5}. Best is trial 46 with value: 0.952.\n",
      "[I 2025-04-07 19:37:25,605] Trial 48 finished with value: 0.9465 and parameters: {'lr': 0.008544515240728167, 'momentum': 0.9586820497760427, 'kernel_size': 5}. Best is trial 46 with value: 0.952.\n",
      "[I 2025-04-07 19:37:31,947] Trial 49 finished with value: 0.9538333333333333 and parameters: {'lr': 0.008357474855908561, 'momentum': 0.9658374309543466, 'kernel_size': 5}. Best is trial 49 with value: 0.9538333333333333.\n",
      "[I 2025-04-07 19:37:38,453] Trial 50 finished with value: 0.945 and parameters: {'lr': 0.007076830526463345, 'momentum': 0.9588909180802361, 'kernel_size': 5}. Best is trial 49 with value: 0.9538333333333333.\n",
      "[I 2025-04-07 19:37:44,906] Trial 51 finished with value: 0.9541666666666667 and parameters: {'lr': 0.008309813074942751, 'momentum': 0.9548481657910405, 'kernel_size': 5}. Best is trial 51 with value: 0.9541666666666667.\n",
      "[I 2025-04-07 19:37:51,260] Trial 52 finished with value: 0.9233333333333333 and parameters: {'lr': 0.007808199362193246, 'momentum': 0.8687781901439251, 'kernel_size': 5}. Best is trial 51 with value: 0.9541666666666667.\n",
      "[I 2025-04-07 19:37:57,977] Trial 53 finished with value: 0.952 and parameters: {'lr': 0.006326846722965117, 'momentum': 0.9662127247843983, 'kernel_size': 5}. Best is trial 51 with value: 0.9541666666666667.\n",
      "[I 2025-04-07 19:38:04,214] Trial 54 finished with value: 0.9191666666666667 and parameters: {'lr': 0.006103990850604552, 'momentum': 0.8778219847472647, 'kernel_size': 5}. Best is trial 51 with value: 0.9541666666666667.\n",
      "[I 2025-04-07 19:38:10,541] Trial 55 finished with value: 0.8726666666666667 and parameters: {'lr': 0.00653060785808113, 'momentum': 0.3713005234129263, 'kernel_size': 5}. Best is trial 51 with value: 0.9541666666666667.\n",
      "[I 2025-04-07 19:38:16,833] Trial 56 finished with value: 0.9476666666666667 and parameters: {'lr': 0.00800255911359279, 'momentum': 0.9608424054955411, 'kernel_size': 5}. Best is trial 51 with value: 0.9541666666666667.\n",
      "[I 2025-04-07 19:38:22,730] Trial 57 finished with value: 0.9045 and parameters: {'lr': 0.00736653421810308, 'momentum': 0.7467436525019902, 'kernel_size': 5}. Best is trial 51 with value: 0.9541666666666667.\n",
      "[I 2025-04-07 19:38:28,685] Trial 58 finished with value: 0.9175 and parameters: {'lr': 0.006640017852118836, 'momentum': 0.7974858854935126, 'kernel_size': 5}. Best is trial 51 with value: 0.9541666666666667.\n",
      "[I 2025-04-07 19:38:34,792] Trial 59 finished with value: 0.858 and parameters: {'lr': 0.0057467005522380986, 'momentum': 0.2269847737644083, 'kernel_size': 5}. Best is trial 51 with value: 0.9541666666666667.\n",
      "[I 2025-04-07 19:38:40,723] Trial 60 finished with value: 0.9205 and parameters: {'lr': 0.008164370104138135, 'momentum': 0.8425073990226561, 'kernel_size': 5}. Best is trial 51 with value: 0.9541666666666667.\n",
      "[I 2025-04-07 19:38:46,918] Trial 61 finished with value: 0.933 and parameters: {'lr': 0.008718112318203193, 'momentum': 0.882257162741965, 'kernel_size': 5}. Best is trial 51 with value: 0.9541666666666667.\n",
      "[I 2025-04-07 19:38:53,028] Trial 62 finished with value: 0.9515 and parameters: {'lr': 0.008668579862437228, 'momentum': 0.9633141752426931, 'kernel_size': 5}. Best is trial 51 with value: 0.9541666666666667.\n",
      "[I 2025-04-07 19:38:59,102] Trial 63 finished with value: 0.956 and parameters: {'lr': 0.00787673599927805, 'momentum': 0.971443127891242, 'kernel_size': 5}. Best is trial 63 with value: 0.956.\n",
      "[I 2025-04-07 19:39:05,461] Trial 64 finished with value: 0.9485 and parameters: {'lr': 0.00751524267846826, 'momentum': 0.9727556311992002, 'kernel_size': 5}. Best is trial 63 with value: 0.956.\n",
      "[I 2025-04-07 19:39:11,890] Trial 65 finished with value: 0.9368333333333333 and parameters: {'lr': 0.007052041381493833, 'momentum': 0.9727891483037053, 'kernel_size': 5}. Best is trial 63 with value: 0.956.\n",
      "[I 2025-04-07 19:39:18,478] Trial 66 finished with value: 0.8218333333333333 and parameters: {'lr': 0.0005594474146074979, 'momentum': 0.8894826060755888, 'kernel_size': 5}. Best is trial 63 with value: 0.956.\n",
      "[I 2025-04-07 19:39:25,122] Trial 67 finished with value: 0.924 and parameters: {'lr': 0.007967847859195269, 'momentum': 0.9943876682037487, 'kernel_size': 5}. Best is trial 63 with value: 0.956.\n",
      "[I 2025-04-07 19:39:31,640] Trial 68 finished with value: 0.9138333333333334 and parameters: {'lr': 0.006371065808410991, 'momentum': 0.8400705496154703, 'kernel_size': 5}. Best is trial 63 with value: 0.956.\n",
      "[I 2025-04-07 19:39:38,354] Trial 69 finished with value: 0.8556666666666667 and parameters: {'lr': 0.008318095424972052, 'momentum': 0.010348438969096208, 'kernel_size': 5}. Best is trial 63 with value: 0.956.\n",
      "[I 2025-04-07 19:39:44,760] Trial 70 finished with value: 0.9313333333333333 and parameters: {'lr': 0.007275774173552706, 'momentum': 0.9004711420013517, 'kernel_size': 7}. Best is trial 63 with value: 0.956.\n",
      "[I 2025-04-07 19:39:51,326] Trial 71 finished with value: 0.949 and parameters: {'lr': 0.007633178222975446, 'momentum': 0.9697127274137856, 'kernel_size': 5}. Best is trial 63 with value: 0.956.\n",
      "[I 2025-04-07 19:39:57,871] Trial 72 finished with value: 0.9508333333333333 and parameters: {'lr': 0.007747659566649437, 'momentum': 0.9697203713049513, 'kernel_size': 5}. Best is trial 63 with value: 0.956.\n",
      "[I 2025-04-07 19:40:04,565] Trial 73 finished with value: 0.9438333333333333 and parameters: {'lr': 0.008709574790625882, 'momentum': 0.9416002795993794, 'kernel_size': 5}. Best is trial 63 with value: 0.956.\n",
      "[I 2025-04-07 19:40:11,006] Trial 74 finished with value: 0.9381666666666667 and parameters: {'lr': 0.006887856763720787, 'momentum': 0.9792245855191152, 'kernel_size': 5}. Best is trial 63 with value: 0.956.\n"
     ]
    },
    {
     "name": "stdout",
     "output_type": "stream",
     "text": [
      "Best hyperparameters: {'lr': 0.00787673599927805, 'momentum': 0.971443127891242, 'kernel_size': 5}\n",
      "Best validation accuracy: 0.956\n"
     ]
    }
   ],
   "source": [
    "def objective(trial):\n",
    "    # Define hyperparameter search spaces.\n",
    "    lr = trial.suggest_float('lr', 1e-6, 1e-2, log=False) # TODO\n",
    "    momentum = trial.suggest_float('momentum', 0.0, 1.0) # TODO\n",
    "    kernel_size = trial.suggest_categorical('kernel_size', [3, 5, 7]) # TODO\n",
    "    parameters = {\"lr\": lr, \"momentum\": momentum, \"kernel_size\": kernel_size}\n",
    "    \n",
    "    # Initialize the model with the chosen kernel_size.\n",
    "    net = CNN(kernel_size=kernel_size)\n",
    "    \n",
    "    # Train the model on the training set.\n",
    "    net = train(net, train_loader, parameters)\n",
    "    \n",
    "    # Evaluate validation sets.\n",
    "    val_accuracy = evaluate(net, valid_loader)\n",
    "    \n",
    "    # Return the validation accuracy (this is what we want to maximize).\n",
    "    return val_accuracy\n",
    "\n",
    "# Create Optuna study and optimize.\n",
    "n_trials = 75\n",
    "sampler = optuna.samplers.TPESampler(seed=seed)\n",
    "study = optuna.create_study(sampler=sampler, direction=\"maximize\")\n",
    "study.optimize(objective, n_trials=n_trials)\n",
    "\n",
    "print(\"Best hyperparameters:\", study.best_trial.params)\n",
    "print(\"Best validation accuracy:\", study.best_trial.value)"
   ]
  },
  {
   "cell_type": "code",
   "execution_count": 6,
   "id": "0df4dd54-78ed-442a-96e9-3a4dde63e6cb",
   "metadata": {},
   "outputs": [
    {
     "data": {
      "application/vnd.plotly.v1+json": {
       "config": {
        "plotlyServerURL": "https://plot.ly"
       },
       "data": [
        {
         "mode": "markers",
         "name": "Objective Value",
         "type": "scatter",
         "x": [
          0,
          1,
          2,
          3,
          4,
          5,
          6,
          7,
          8,
          9,
          10,
          11,
          12,
          13,
          14,
          15,
          16,
          17,
          18,
          19,
          20,
          21,
          22,
          23,
          24,
          25,
          26,
          27,
          28,
          29,
          30,
          31,
          32,
          33,
          34,
          35,
          36,
          37,
          38,
          39,
          40,
          41,
          42,
          43,
          44,
          45,
          46,
          47,
          48,
          49,
          50,
          51,
          52,
          53,
          54,
          55,
          56,
          57,
          58,
          59,
          60,
          61,
          62,
          63,
          64,
          65,
          66,
          67,
          68,
          69,
          70,
          71,
          72,
          73,
          74
         ],
         "y": [
          0.9065,
          0.6105,
          0.7906666666666666,
          0.735,
          0.8556666666666667,
          0.8696666666666667,
          0.8653333333333333,
          0.8855,
          0.635,
          0.8736666666666667,
          0.905,
          0.9126666666666666,
          0.8938333333333334,
          0.8835,
          0.8718333333333333,
          0.8758333333333334,
          0.8975,
          0.8985,
          0.901,
          0.9006666666666666,
          0.14966666666666667,
          0.9056666666666666,
          0.8971666666666667,
          0.8771666666666667,
          0.9106666666666666,
          0.9081666666666667,
          0.894,
          0.8853333333333333,
          0.8945,
          0.8965,
          0.9201666666666667,
          0.9341666666666667,
          0.9218333333333333,
          0.9263333333333333,
          0.9085,
          0.9266666666666666,
          0.9135,
          0.8883333333333333,
          0.9036666666666666,
          0.9446666666666667,
          0.8653333333333333,
          0.933,
          0.9476666666666667,
          0.9476666666666667,
          0.9208333333333333,
          0.9508333333333333,
          0.952,
          0.9185,
          0.9465,
          0.9538333333333333,
          0.945,
          0.9541666666666667,
          0.9233333333333333,
          0.952,
          0.9191666666666667,
          0.8726666666666667,
          0.9476666666666667,
          0.9045,
          0.9175,
          0.858,
          0.9205,
          0.933,
          0.9515,
          0.956,
          0.9485,
          0.9368333333333333,
          0.8218333333333333,
          0.924,
          0.9138333333333334,
          0.8556666666666667,
          0.9313333333333333,
          0.949,
          0.9508333333333333,
          0.9438333333333333,
          0.9381666666666667
         ]
        },
        {
         "mode": "lines",
         "name": "Best Value",
         "type": "scatter",
         "x": [
          0,
          1,
          2,
          3,
          4,
          5,
          6,
          7,
          8,
          9,
          10,
          11,
          12,
          13,
          14,
          15,
          16,
          17,
          18,
          19,
          20,
          21,
          22,
          23,
          24,
          25,
          26,
          27,
          28,
          29,
          30,
          31,
          32,
          33,
          34,
          35,
          36,
          37,
          38,
          39,
          40,
          41,
          42,
          43,
          44,
          45,
          46,
          47,
          48,
          49,
          50,
          51,
          52,
          53,
          54,
          55,
          56,
          57,
          58,
          59,
          60,
          61,
          62,
          63,
          64,
          65,
          66,
          67,
          68,
          69,
          70,
          71,
          72,
          73,
          74
         ],
         "y": [
          0.9065,
          0.9065,
          0.9065,
          0.9065,
          0.9065,
          0.9065,
          0.9065,
          0.9065,
          0.9065,
          0.9065,
          0.9065,
          0.9126666666666666,
          0.9126666666666666,
          0.9126666666666666,
          0.9126666666666666,
          0.9126666666666666,
          0.9126666666666666,
          0.9126666666666666,
          0.9126666666666666,
          0.9126666666666666,
          0.9126666666666666,
          0.9126666666666666,
          0.9126666666666666,
          0.9126666666666666,
          0.9126666666666666,
          0.9126666666666666,
          0.9126666666666666,
          0.9126666666666666,
          0.9126666666666666,
          0.9126666666666666,
          0.9201666666666667,
          0.9341666666666667,
          0.9341666666666667,
          0.9341666666666667,
          0.9341666666666667,
          0.9341666666666667,
          0.9341666666666667,
          0.9341666666666667,
          0.9341666666666667,
          0.9446666666666667,
          0.9446666666666667,
          0.9446666666666667,
          0.9476666666666667,
          0.9476666666666667,
          0.9476666666666667,
          0.9508333333333333,
          0.952,
          0.952,
          0.952,
          0.9538333333333333,
          0.9538333333333333,
          0.9541666666666667,
          0.9541666666666667,
          0.9541666666666667,
          0.9541666666666667,
          0.9541666666666667,
          0.9541666666666667,
          0.9541666666666667,
          0.9541666666666667,
          0.9541666666666667,
          0.9541666666666667,
          0.9541666666666667,
          0.9541666666666667,
          0.956,
          0.956,
          0.956,
          0.956,
          0.956,
          0.956,
          0.956,
          0.956,
          0.956,
          0.956,
          0.956,
          0.956
         ]
        },
        {
         "marker": {
          "color": "#cccccc"
         },
         "mode": "markers",
         "name": "Infeasible Trial",
         "showlegend": false,
         "type": "scatter",
         "x": [],
         "y": []
        }
       ],
       "layout": {
        "template": {
         "data": {
          "bar": [
           {
            "error_x": {
             "color": "#2a3f5f"
            },
            "error_y": {
             "color": "#2a3f5f"
            },
            "marker": {
             "line": {
              "color": "#E5ECF6",
              "width": 0.5
             },
             "pattern": {
              "fillmode": "overlay",
              "size": 10,
              "solidity": 0.2
             }
            },
            "type": "bar"
           }
          ],
          "barpolar": [
           {
            "marker": {
             "line": {
              "color": "#E5ECF6",
              "width": 0.5
             },
             "pattern": {
              "fillmode": "overlay",
              "size": 10,
              "solidity": 0.2
             }
            },
            "type": "barpolar"
           }
          ],
          "carpet": [
           {
            "aaxis": {
             "endlinecolor": "#2a3f5f",
             "gridcolor": "white",
             "linecolor": "white",
             "minorgridcolor": "white",
             "startlinecolor": "#2a3f5f"
            },
            "baxis": {
             "endlinecolor": "#2a3f5f",
             "gridcolor": "white",
             "linecolor": "white",
             "minorgridcolor": "white",
             "startlinecolor": "#2a3f5f"
            },
            "type": "carpet"
           }
          ],
          "choropleth": [
           {
            "colorbar": {
             "outlinewidth": 0,
             "ticks": ""
            },
            "type": "choropleth"
           }
          ],
          "contour": [
           {
            "colorbar": {
             "outlinewidth": 0,
             "ticks": ""
            },
            "colorscale": [
             [
              0,
              "#0d0887"
             ],
             [
              0.1111111111111111,
              "#46039f"
             ],
             [
              0.2222222222222222,
              "#7201a8"
             ],
             [
              0.3333333333333333,
              "#9c179e"
             ],
             [
              0.4444444444444444,
              "#bd3786"
             ],
             [
              0.5555555555555556,
              "#d8576b"
             ],
             [
              0.6666666666666666,
              "#ed7953"
             ],
             [
              0.7777777777777778,
              "#fb9f3a"
             ],
             [
              0.8888888888888888,
              "#fdca26"
             ],
             [
              1,
              "#f0f921"
             ]
            ],
            "type": "contour"
           }
          ],
          "contourcarpet": [
           {
            "colorbar": {
             "outlinewidth": 0,
             "ticks": ""
            },
            "type": "contourcarpet"
           }
          ],
          "heatmap": [
           {
            "colorbar": {
             "outlinewidth": 0,
             "ticks": ""
            },
            "colorscale": [
             [
              0,
              "#0d0887"
             ],
             [
              0.1111111111111111,
              "#46039f"
             ],
             [
              0.2222222222222222,
              "#7201a8"
             ],
             [
              0.3333333333333333,
              "#9c179e"
             ],
             [
              0.4444444444444444,
              "#bd3786"
             ],
             [
              0.5555555555555556,
              "#d8576b"
             ],
             [
              0.6666666666666666,
              "#ed7953"
             ],
             [
              0.7777777777777778,
              "#fb9f3a"
             ],
             [
              0.8888888888888888,
              "#fdca26"
             ],
             [
              1,
              "#f0f921"
             ]
            ],
            "type": "heatmap"
           }
          ],
          "histogram": [
           {
            "marker": {
             "pattern": {
              "fillmode": "overlay",
              "size": 10,
              "solidity": 0.2
             }
            },
            "type": "histogram"
           }
          ],
          "histogram2d": [
           {
            "colorbar": {
             "outlinewidth": 0,
             "ticks": ""
            },
            "colorscale": [
             [
              0,
              "#0d0887"
             ],
             [
              0.1111111111111111,
              "#46039f"
             ],
             [
              0.2222222222222222,
              "#7201a8"
             ],
             [
              0.3333333333333333,
              "#9c179e"
             ],
             [
              0.4444444444444444,
              "#bd3786"
             ],
             [
              0.5555555555555556,
              "#d8576b"
             ],
             [
              0.6666666666666666,
              "#ed7953"
             ],
             [
              0.7777777777777778,
              "#fb9f3a"
             ],
             [
              0.8888888888888888,
              "#fdca26"
             ],
             [
              1,
              "#f0f921"
             ]
            ],
            "type": "histogram2d"
           }
          ],
          "histogram2dcontour": [
           {
            "colorbar": {
             "outlinewidth": 0,
             "ticks": ""
            },
            "colorscale": [
             [
              0,
              "#0d0887"
             ],
             [
              0.1111111111111111,
              "#46039f"
             ],
             [
              0.2222222222222222,
              "#7201a8"
             ],
             [
              0.3333333333333333,
              "#9c179e"
             ],
             [
              0.4444444444444444,
              "#bd3786"
             ],
             [
              0.5555555555555556,
              "#d8576b"
             ],
             [
              0.6666666666666666,
              "#ed7953"
             ],
             [
              0.7777777777777778,
              "#fb9f3a"
             ],
             [
              0.8888888888888888,
              "#fdca26"
             ],
             [
              1,
              "#f0f921"
             ]
            ],
            "type": "histogram2dcontour"
           }
          ],
          "mesh3d": [
           {
            "colorbar": {
             "outlinewidth": 0,
             "ticks": ""
            },
            "type": "mesh3d"
           }
          ],
          "parcoords": [
           {
            "line": {
             "colorbar": {
              "outlinewidth": 0,
              "ticks": ""
             }
            },
            "type": "parcoords"
           }
          ],
          "pie": [
           {
            "automargin": true,
            "type": "pie"
           }
          ],
          "scatter": [
           {
            "fillpattern": {
             "fillmode": "overlay",
             "size": 10,
             "solidity": 0.2
            },
            "type": "scatter"
           }
          ],
          "scatter3d": [
           {
            "line": {
             "colorbar": {
              "outlinewidth": 0,
              "ticks": ""
             }
            },
            "marker": {
             "colorbar": {
              "outlinewidth": 0,
              "ticks": ""
             }
            },
            "type": "scatter3d"
           }
          ],
          "scattercarpet": [
           {
            "marker": {
             "colorbar": {
              "outlinewidth": 0,
              "ticks": ""
             }
            },
            "type": "scattercarpet"
           }
          ],
          "scattergeo": [
           {
            "marker": {
             "colorbar": {
              "outlinewidth": 0,
              "ticks": ""
             }
            },
            "type": "scattergeo"
           }
          ],
          "scattergl": [
           {
            "marker": {
             "colorbar": {
              "outlinewidth": 0,
              "ticks": ""
             }
            },
            "type": "scattergl"
           }
          ],
          "scattermap": [
           {
            "marker": {
             "colorbar": {
              "outlinewidth": 0,
              "ticks": ""
             }
            },
            "type": "scattermap"
           }
          ],
          "scattermapbox": [
           {
            "marker": {
             "colorbar": {
              "outlinewidth": 0,
              "ticks": ""
             }
            },
            "type": "scattermapbox"
           }
          ],
          "scatterpolar": [
           {
            "marker": {
             "colorbar": {
              "outlinewidth": 0,
              "ticks": ""
             }
            },
            "type": "scatterpolar"
           }
          ],
          "scatterpolargl": [
           {
            "marker": {
             "colorbar": {
              "outlinewidth": 0,
              "ticks": ""
             }
            },
            "type": "scatterpolargl"
           }
          ],
          "scatterternary": [
           {
            "marker": {
             "colorbar": {
              "outlinewidth": 0,
              "ticks": ""
             }
            },
            "type": "scatterternary"
           }
          ],
          "surface": [
           {
            "colorbar": {
             "outlinewidth": 0,
             "ticks": ""
            },
            "colorscale": [
             [
              0,
              "#0d0887"
             ],
             [
              0.1111111111111111,
              "#46039f"
             ],
             [
              0.2222222222222222,
              "#7201a8"
             ],
             [
              0.3333333333333333,
              "#9c179e"
             ],
             [
              0.4444444444444444,
              "#bd3786"
             ],
             [
              0.5555555555555556,
              "#d8576b"
             ],
             [
              0.6666666666666666,
              "#ed7953"
             ],
             [
              0.7777777777777778,
              "#fb9f3a"
             ],
             [
              0.8888888888888888,
              "#fdca26"
             ],
             [
              1,
              "#f0f921"
             ]
            ],
            "type": "surface"
           }
          ],
          "table": [
           {
            "cells": {
             "fill": {
              "color": "#EBF0F8"
             },
             "line": {
              "color": "white"
             }
            },
            "header": {
             "fill": {
              "color": "#C8D4E3"
             },
             "line": {
              "color": "white"
             }
            },
            "type": "table"
           }
          ]
         },
         "layout": {
          "annotationdefaults": {
           "arrowcolor": "#2a3f5f",
           "arrowhead": 0,
           "arrowwidth": 1
          },
          "autotypenumbers": "strict",
          "coloraxis": {
           "colorbar": {
            "outlinewidth": 0,
            "ticks": ""
           }
          },
          "colorscale": {
           "diverging": [
            [
             0,
             "#8e0152"
            ],
            [
             0.1,
             "#c51b7d"
            ],
            [
             0.2,
             "#de77ae"
            ],
            [
             0.3,
             "#f1b6da"
            ],
            [
             0.4,
             "#fde0ef"
            ],
            [
             0.5,
             "#f7f7f7"
            ],
            [
             0.6,
             "#e6f5d0"
            ],
            [
             0.7,
             "#b8e186"
            ],
            [
             0.8,
             "#7fbc41"
            ],
            [
             0.9,
             "#4d9221"
            ],
            [
             1,
             "#276419"
            ]
           ],
           "sequential": [
            [
             0,
             "#0d0887"
            ],
            [
             0.1111111111111111,
             "#46039f"
            ],
            [
             0.2222222222222222,
             "#7201a8"
            ],
            [
             0.3333333333333333,
             "#9c179e"
            ],
            [
             0.4444444444444444,
             "#bd3786"
            ],
            [
             0.5555555555555556,
             "#d8576b"
            ],
            [
             0.6666666666666666,
             "#ed7953"
            ],
            [
             0.7777777777777778,
             "#fb9f3a"
            ],
            [
             0.8888888888888888,
             "#fdca26"
            ],
            [
             1,
             "#f0f921"
            ]
           ],
           "sequentialminus": [
            [
             0,
             "#0d0887"
            ],
            [
             0.1111111111111111,
             "#46039f"
            ],
            [
             0.2222222222222222,
             "#7201a8"
            ],
            [
             0.3333333333333333,
             "#9c179e"
            ],
            [
             0.4444444444444444,
             "#bd3786"
            ],
            [
             0.5555555555555556,
             "#d8576b"
            ],
            [
             0.6666666666666666,
             "#ed7953"
            ],
            [
             0.7777777777777778,
             "#fb9f3a"
            ],
            [
             0.8888888888888888,
             "#fdca26"
            ],
            [
             1,
             "#f0f921"
            ]
           ]
          },
          "colorway": [
           "#636efa",
           "#EF553B",
           "#00cc96",
           "#ab63fa",
           "#FFA15A",
           "#19d3f3",
           "#FF6692",
           "#B6E880",
           "#FF97FF",
           "#FECB52"
          ],
          "font": {
           "color": "#2a3f5f"
          },
          "geo": {
           "bgcolor": "white",
           "lakecolor": "white",
           "landcolor": "#E5ECF6",
           "showlakes": true,
           "showland": true,
           "subunitcolor": "white"
          },
          "hoverlabel": {
           "align": "left"
          },
          "hovermode": "closest",
          "mapbox": {
           "style": "light"
          },
          "paper_bgcolor": "white",
          "plot_bgcolor": "#E5ECF6",
          "polar": {
           "angularaxis": {
            "gridcolor": "white",
            "linecolor": "white",
            "ticks": ""
           },
           "bgcolor": "#E5ECF6",
           "radialaxis": {
            "gridcolor": "white",
            "linecolor": "white",
            "ticks": ""
           }
          },
          "scene": {
           "xaxis": {
            "backgroundcolor": "#E5ECF6",
            "gridcolor": "white",
            "gridwidth": 2,
            "linecolor": "white",
            "showbackground": true,
            "ticks": "",
            "zerolinecolor": "white"
           },
           "yaxis": {
            "backgroundcolor": "#E5ECF6",
            "gridcolor": "white",
            "gridwidth": 2,
            "linecolor": "white",
            "showbackground": true,
            "ticks": "",
            "zerolinecolor": "white"
           },
           "zaxis": {
            "backgroundcolor": "#E5ECF6",
            "gridcolor": "white",
            "gridwidth": 2,
            "linecolor": "white",
            "showbackground": true,
            "ticks": "",
            "zerolinecolor": "white"
           }
          },
          "shapedefaults": {
           "line": {
            "color": "#2a3f5f"
           }
          },
          "ternary": {
           "aaxis": {
            "gridcolor": "white",
            "linecolor": "white",
            "ticks": ""
           },
           "baxis": {
            "gridcolor": "white",
            "linecolor": "white",
            "ticks": ""
           },
           "bgcolor": "#E5ECF6",
           "caxis": {
            "gridcolor": "white",
            "linecolor": "white",
            "ticks": ""
           }
          },
          "title": {
           "x": 0.05
          },
          "xaxis": {
           "automargin": true,
           "gridcolor": "white",
           "linecolor": "white",
           "ticks": "",
           "title": {
            "standoff": 15
           },
           "zerolinecolor": "white",
           "zerolinewidth": 2
          },
          "yaxis": {
           "automargin": true,
           "gridcolor": "white",
           "linecolor": "white",
           "ticks": "",
           "title": {
            "standoff": 15
           },
           "zerolinecolor": "white",
           "zerolinewidth": 2
          }
         }
        },
        "title": {
         "text": "Optimization History Plot"
        },
        "xaxis": {
         "title": {
          "text": "Trial"
         }
        },
        "yaxis": {
         "title": {
          "text": "Objective Value"
         }
        }
       }
      }
     },
     "metadata": {},
     "output_type": "display_data"
    },
    {
     "name": "stderr",
     "output_type": "stream",
     "text": [
      "/tmp/ipykernel_2500199/761169017.py:6: ExperimentalWarning:\n",
      "\n",
      "plot_optimization_history is experimental (supported from v2.2.0). The interface can change in the future.\n",
      "\n"
     ]
    },
    {
     "data": {
      "image/png": "[encoded data removed]",
      "text/plain": [
       "<Figure size 640x480 with 1 Axes>"
      ]
     },
     "metadata": {},
     "output_type": "display_data"
    }
   ],
   "source": [
    "# Visualize the optimization history. (Interactive)\n",
    "fig_history = vis.plot_optimization_history(study)\n",
    "fig_history.show()\n",
    "\n",
    "# Alternative Visualization. You can use this if the plot is not visible in .pdf version (Matplotlib plot)\n",
    "fig_history = optuna.visualization.matplotlib.plot_optimization_history(study)\n",
    "plt.show()"
   ]
  },
  {
   "cell_type": "code",
   "execution_count": 7,
   "id": "6aadb4bd-0742-44b7-a106-f2dd53c098fa",
   "metadata": {},
   "outputs": [
    {
     "name": "stdout",
     "output_type": "stream",
     "text": [
      "Test accuracy with best hyperparameters: 0.9678\n"
     ]
    }
   ],
   "source": [
    "# Evaluate on the test set using the best hyperparameters.\n",
    "test_accuracy = train_test(study.best_trial.params)\n",
    "print(\"Test accuracy with best hyperparameters:\", test_accuracy)"
   ]
  },
  {
   "cell_type": "markdown",
   "id": "99882ba4-2e4d-42f6-ba9e-7a9685c9f162",
   "metadata": {},
   "source": [
    "## (1c) Grid search\n",
    "\n",
    "Implement grid search for the same three parameters.\n",
    "\n",
    "Remember that you **need to cover 75 alternatives in total.**\n",
    "\n",
    "So, think about how to best allocate those to cover the three hyperparameters."
   ]
  },
  {
   "cell_type": "code",
   "execution_count": 8,
   "id": "e55c0c95-9018-48fb-b718-d39ffd35627a",
   "metadata": {},
   "outputs": [
    {
     "name": "stdout",
     "output_type": "stream",
     "text": [
      "iteration: 1, params: {'lr': 0.0001, 'momentum': 0.75, 'kernel_size': 3}, val_accuracy: 0.3318333333333333\n",
      "iteration: 2, params: {'lr': 0.0001, 'momentum': 0.75, 'kernel_size': 5}, val_accuracy: 0.2745\n",
      "iteration: 3, params: {'lr': 0.0001, 'momentum': 0.75, 'kernel_size': 7}, val_accuracy: 0.1965\n",
      "iteration: 4, params: {'lr': 0.0001, 'momentum': 0.7625, 'kernel_size': 3}, val_accuracy: 0.176\n",
      "iteration: 5, params: {'lr': 0.0001, 'momentum': 0.7625, 'kernel_size': 5}, val_accuracy: 0.4605\n",
      "iteration: 6, params: {'lr': 0.0001, 'momentum': 0.7625, 'kernel_size': 7}, val_accuracy: 0.2605\n",
      "iteration: 7, params: {'lr': 0.0001, 'momentum': 0.775, 'kernel_size': 3}, val_accuracy: 0.2931666666666667\n",
      "iteration: 8, params: {'lr': 0.0001, 'momentum': 0.775, 'kernel_size': 5}, val_accuracy: 0.23683333333333334\n",
      "iteration: 9, params: {'lr': 0.0001, 'momentum': 0.775, 'kernel_size': 7}, val_accuracy: 0.21933333333333332\n",
      "iteration: 10, params: {'lr': 0.0001, 'momentum': 0.7875000000000001, 'kernel_size': 3}, val_accuracy: 0.32966666666666666\n",
      "iteration: 11, params: {'lr': 0.0001, 'momentum': 0.7875000000000001, 'kernel_size': 5}, val_accuracy: 0.2916666666666667\n",
      "iteration: 12, params: {'lr': 0.0001, 'momentum': 0.7875000000000001, 'kernel_size': 7}, val_accuracy: 0.20516666666666666\n",
      "iteration: 13, params: {'lr': 0.0001, 'momentum': 0.8, 'kernel_size': 3}, val_accuracy: 0.16083333333333333\n",
      "iteration: 14, params: {'lr': 0.0001, 'momentum': 0.8, 'kernel_size': 5}, val_accuracy: 0.4255\n",
      "iteration: 15, params: {'lr': 0.0001, 'momentum': 0.8, 'kernel_size': 7}, val_accuracy: 0.19783333333333333\n",
      "iteration: 16, params: {'lr': 0.025075, 'momentum': 0.75, 'kernel_size': 3}, val_accuracy: 0.9246666666666666\n",
      "iteration: 17, params: {'lr': 0.025075, 'momentum': 0.75, 'kernel_size': 5}, val_accuracy: 0.9476666666666667\n",
      "iteration: 18, params: {'lr': 0.025075, 'momentum': 0.75, 'kernel_size': 7}, val_accuracy: 0.9425\n",
      "iteration: 19, params: {'lr': 0.025075, 'momentum': 0.7625, 'kernel_size': 3}, val_accuracy: 0.9343333333333333\n",
      "iteration: 20, params: {'lr': 0.025075, 'momentum': 0.7625, 'kernel_size': 5}, val_accuracy: 0.9431666666666667\n",
      "iteration: 21, params: {'lr': 0.025075, 'momentum': 0.7625, 'kernel_size': 7}, val_accuracy: 0.9541666666666667\n",
      "iteration: 22, params: {'lr': 0.025075, 'momentum': 0.775, 'kernel_size': 3}, val_accuracy: 0.9315\n",
      "iteration: 23, params: {'lr': 0.025075, 'momentum': 0.775, 'kernel_size': 5}, val_accuracy: 0.9503333333333334\n",
      "iteration: 24, params: {'lr': 0.025075, 'momentum': 0.775, 'kernel_size': 7}, val_accuracy: 0.9485\n",
      "iteration: 25, params: {'lr': 0.025075, 'momentum': 0.7875000000000001, 'kernel_size': 3}, val_accuracy: 0.9323333333333333\n",
      "iteration: 26, params: {'lr': 0.025075, 'momentum': 0.7875000000000001, 'kernel_size': 5}, val_accuracy: 0.953\n",
      "iteration: 27, params: {'lr': 0.025075, 'momentum': 0.7875000000000001, 'kernel_size': 7}, val_accuracy: 0.9506666666666667\n",
      "iteration: 28, params: {'lr': 0.025075, 'momentum': 0.8, 'kernel_size': 3}, val_accuracy: 0.9341666666666667\n",
      "iteration: 29, params: {'lr': 0.025075, 'momentum': 0.8, 'kernel_size': 5}, val_accuracy: 0.9436666666666667\n",
      "iteration: 30, params: {'lr': 0.025075, 'momentum': 0.8, 'kernel_size': 7}, val_accuracy: 0.9528333333333333\n",
      "iteration: 31, params: {'lr': 0.050050000000000004, 'momentum': 0.75, 'kernel_size': 3}, val_accuracy: 0.9441666666666667\n",
      "iteration: 32, params: {'lr': 0.050050000000000004, 'momentum': 0.75, 'kernel_size': 5}, val_accuracy: 0.96\n",
      "iteration: 33, params: {'lr': 0.050050000000000004, 'momentum': 0.75, 'kernel_size': 7}, val_accuracy: 0.9585\n",
      "iteration: 34, params: {'lr': 0.050050000000000004, 'momentum': 0.7625, 'kernel_size': 3}, val_accuracy: 0.9451666666666667\n",
      "iteration: 35, params: {'lr': 0.050050000000000004, 'momentum': 0.7625, 'kernel_size': 5}, val_accuracy: 0.9485\n",
      "iteration: 36, params: {'lr': 0.050050000000000004, 'momentum': 0.7625, 'kernel_size': 7}, val_accuracy: 0.9583333333333334\n",
      "iteration: 37, params: {'lr': 0.050050000000000004, 'momentum': 0.775, 'kernel_size': 3}, val_accuracy: 0.952\n",
      "iteration: 38, params: {'lr': 0.050050000000000004, 'momentum': 0.775, 'kernel_size': 5}, val_accuracy: 0.9608333333333333\n",
      "iteration: 39, params: {'lr': 0.050050000000000004, 'momentum': 0.775, 'kernel_size': 7}, val_accuracy: 0.9583333333333334\n",
      "iteration: 40, params: {'lr': 0.050050000000000004, 'momentum': 0.7875000000000001, 'kernel_size': 3}, val_accuracy: 0.949\n",
      "iteration: 41, params: {'lr': 0.050050000000000004, 'momentum': 0.7875000000000001, 'kernel_size': 5}, val_accuracy: 0.9581666666666667\n",
      "iteration: 42, params: {'lr': 0.050050000000000004, 'momentum': 0.7875000000000001, 'kernel_size': 7}, val_accuracy: 0.9681666666666666\n",
      "iteration: 43, params: {'lr': 0.050050000000000004, 'momentum': 0.8, 'kernel_size': 3}, val_accuracy: 0.9506666666666667\n",
      "iteration: 44, params: {'lr': 0.050050000000000004, 'momentum': 0.8, 'kernel_size': 5}, val_accuracy: 0.9601666666666666\n",
      "iteration: 45, params: {'lr': 0.050050000000000004, 'momentum': 0.8, 'kernel_size': 7}, val_accuracy: 0.9611666666666666\n",
      "iteration: 46, params: {'lr': 0.07502500000000001, 'momentum': 0.75, 'kernel_size': 3}, val_accuracy: 0.9513333333333334\n",
      "iteration: 47, params: {'lr': 0.07502500000000001, 'momentum': 0.75, 'kernel_size': 5}, val_accuracy: 0.9528333333333333\n",
      "iteration: 48, params: {'lr': 0.07502500000000001, 'momentum': 0.75, 'kernel_size': 7}, val_accuracy: 0.9666666666666667\n",
      "iteration: 49, params: {'lr': 0.07502500000000001, 'momentum': 0.7625, 'kernel_size': 3}, val_accuracy: 0.961\n",
      "iteration: 50, params: {'lr': 0.07502500000000001, 'momentum': 0.7625, 'kernel_size': 5}, val_accuracy: 0.9503333333333334\n",
      "iteration: 51, params: {'lr': 0.07502500000000001, 'momentum': 0.7625, 'kernel_size': 7}, val_accuracy: 0.968\n",
      "iteration: 52, params: {'lr': 0.07502500000000001, 'momentum': 0.775, 'kernel_size': 3}, val_accuracy: 0.9475\n",
      "iteration: 53, params: {'lr': 0.07502500000000001, 'momentum': 0.775, 'kernel_size': 5}, val_accuracy: 0.9546666666666667\n",
      "iteration: 54, params: {'lr': 0.07502500000000001, 'momentum': 0.775, 'kernel_size': 7}, val_accuracy: 0.9656666666666667\n",
      "iteration: 55, params: {'lr': 0.07502500000000001, 'momentum': 0.7875000000000001, 'kernel_size': 3}, val_accuracy: 0.9575\n",
      "iteration: 56, params: {'lr': 0.07502500000000001, 'momentum': 0.7875000000000001, 'kernel_size': 5}, val_accuracy: 0.967\n",
      "iteration: 57, params: {'lr': 0.07502500000000001, 'momentum': 0.7875000000000001, 'kernel_size': 7}, val_accuracy: 0.9676666666666667\n",
      "iteration: 58, params: {'lr': 0.07502500000000001, 'momentum': 0.8, 'kernel_size': 3}, val_accuracy: 0.9565\n",
      "iteration: 59, params: {'lr': 0.07502500000000001, 'momentum': 0.8, 'kernel_size': 5}, val_accuracy: 0.955\n",
      "iteration: 60, params: {'lr': 0.07502500000000001, 'momentum': 0.8, 'kernel_size': 7}, val_accuracy: 0.97\n",
      "iteration: 61, params: {'lr': 0.1, 'momentum': 0.75, 'kernel_size': 3}, val_accuracy: 0.9465\n",
      "iteration: 62, params: {'lr': 0.1, 'momentum': 0.75, 'kernel_size': 5}, val_accuracy: 0.9645\n",
      "iteration: 63, params: {'lr': 0.1, 'momentum': 0.75, 'kernel_size': 7}, val_accuracy: 0.9686666666666667\n",
      "iteration: 64, params: {'lr': 0.1, 'momentum': 0.7625, 'kernel_size': 3}, val_accuracy: 0.9516666666666667\n",
      "iteration: 65, params: {'lr': 0.1, 'momentum': 0.7625, 'kernel_size': 5}, val_accuracy: 0.9618333333333333\n",
      "iteration: 66, params: {'lr': 0.1, 'momentum': 0.7625, 'kernel_size': 7}, val_accuracy: 0.9665\n",
      "iteration: 67, params: {'lr': 0.1, 'momentum': 0.775, 'kernel_size': 3}, val_accuracy: 0.9651666666666666\n",
      "iteration: 68, params: {'lr': 0.1, 'momentum': 0.775, 'kernel_size': 5}, val_accuracy: 0.9635\n",
      "iteration: 69, params: {'lr': 0.1, 'momentum': 0.775, 'kernel_size': 7}, val_accuracy: 0.9665\n",
      "iteration: 70, params: {'lr': 0.1, 'momentum': 0.7875000000000001, 'kernel_size': 3}, val_accuracy: 0.9643333333333334\n",
      "iteration: 71, params: {'lr': 0.1, 'momentum': 0.7875000000000001, 'kernel_size': 5}, val_accuracy: 0.9543333333333334\n",
      "iteration: 72, params: {'lr': 0.1, 'momentum': 0.7875000000000001, 'kernel_size': 7}, val_accuracy: 0.9596666666666667\n",
      "iteration: 73, params: {'lr': 0.1, 'momentum': 0.8, 'kernel_size': 3}, val_accuracy: 0.9543333333333334\n",
      "iteration: 74, params: {'lr': 0.1, 'momentum': 0.8, 'kernel_size': 5}, val_accuracy: 0.9715\n",
      "iteration: 75, params: {'lr': 0.1, 'momentum': 0.8, 'kernel_size': 7}, val_accuracy: 0.9555\n",
      "best params: {'lr': 0.1, 'momentum': 0.8, 'kernel_size': 5}\n"
     ]
    }
   ],
   "source": [
    "# TODO\n",
    "learning_rates = np.linspace(0.0001, 0.1, 5)\n",
    "momentums = np.linspace(0.75, 0.80, 5)\n",
    "kernel_sizes = [3, 5, 7]\n",
    "\n",
    "best_accuracy = 0\n",
    "best_params = {}\n",
    "grid_results = []\n",
    "best_grid_results = [] \n",
    "\n",
    "iteration = 0\n",
    "for lr in learning_rates:\n",
    "\tfor momentum in momentums:\n",
    "\t\tfor kernel_size in kernel_sizes:\n",
    "\t\t\titeration += 1\n",
    "\t\t\tparams = {\n",
    "\t\t\t\t\"lr\": lr\n",
    "\t\t\t\t,\"momentum\": momentum\n",
    "\t\t\t\t,\"kernel_size\": kernel_size\n",
    "\t\t\t} \n",
    "\t\t\tnet = CNN(kernel_size = kernel_size)\n",
    "\t\t\tnet = train(net, train_loader, params)\n",
    "\t\t\tval_accuracy = evaluate(net, valid_loader)\n",
    "\t\t\t\n",
    "\t\t\t# Keep track of best\n",
    "\t\t\tif val_accuracy > best_accuracy:\n",
    "\t\t\t\tbest_accuracy = val_accuracy\n",
    "\t\t\t\tbest_params = {\n",
    "\t\t\t\t\t'lr': lr,\n",
    "\t\t\t\t\t'momentum': momentum,\n",
    "\t\t\t\t\t'kernel_size': kernel_size\n",
    "\t\t\t\t}\n",
    "\t\t\tgrid_results.append((iteration, val_accuracy))\n",
    "\t\t\tbest_grid_results.append((iteration, best_accuracy))\n",
    "\t\t\tprint(f\"iteration: {iteration}, params: {params}, val_accuracy: {val_accuracy}\")\n",
    "print(f\"best params: {best_params}\")"
   ]
  },
  {
   "cell_type": "code",
   "execution_count": 9,
   "id": "a3e872c8",
   "metadata": {},
   "outputs": [
    {
     "data": {
      "image/png": "[encoded data removed]",
      "text/plain": [
       "<Figure size 640x480 with 1 Axes>"
      ]
     },
     "metadata": {},
     "output_type": "display_data"
    }
   ],
   "source": [
    "best_grid_x, best_grid_y = zip(*best_grid_results)\n",
    "grid_x, grid_y = zip(*grid_results)\n",
    "plt.plot(best_grid_x, best_grid_y, label = \"Best value\")\n",
    "plt.scatter(grid_x, grid_y, label = \"Objective value\", c = \"blue\")\n",
    "plt.xlabel('Trial')\n",
    "plt.ylabel('Accuracy')\n",
    "plt.title('Grid optimization history')\n",
    "plt.grid(True)\n",
    "plt.legend()\n",
    "plt.show()"
   ]
  },
  {
   "cell_type": "code",
   "execution_count": 10,
   "id": "387c4790",
   "metadata": {},
   "outputs": [
    {
     "name": "stdout",
     "output_type": "stream",
     "text": [
      "Test accuracy with best hyperparameters: 0.9589, best hyperparameters: {'lr': 0.1, 'momentum': 0.8, 'kernel_size': 5}\n"
     ]
    }
   ],
   "source": [
    "# Evaluate on the test set using the best hyperparameters.\n",
    "test_accuracy = train_test(best_params)\n",
    "print(f\"Test accuracy with best hyperparameters: {test_accuracy}, best hyperparameters: {best_params}\")"
   ]
  },
  {
   "cell_type": "markdown",
   "id": "e9c3ccea",
   "metadata": {},
   "source": [
    "After finding the right region of the hyperparameters (lr around 0.1, momentum around 0.7-0.8, kernel size between 5 and 7) I was able to reduce the search space drastically resulting in a better accuracy test for the GridSearch algorithm 0.9589 (0.9735 in a previous run) compared to roughly 0.956 for Bayesian search. The number of iterations, 75, is the same for both methods therefore the time required to complete both methods is roughly the same. Although using GridSeach can be time consuming without prior knowledge of where to look for, the close to best hyperparameters can be obtained through a combination of Bayesian search and GridSearch. \n",
    "\n",
    "The number of hyperparameters we can search depends highly on the network we are training since the evaluation of it is the bottleneck of the method. If we assume that the model is the same we can see that for 3 hyperparameters the total time required is already in the order of minutes (using cpu). Knowing that the time complexity for GridSearch is exponential we cannot expect to optimize more than 4-5. On the other hand for Bayesian search a rule of thumb is to have at least 10-20 iterations per hyperparameter therefore we can optimize many more (eg. for 75 iterations we could have optimized 4-8 hyperparameters)."
   ]
  },
  {
   "cell_type": "markdown",
   "id": "a18f94ef-2510-43cd-b207-425ba207428f",
   "metadata": {},
   "source": [
    "# 2. Transfer learning"
   ]
  },
  {
   "cell_type": "code",
   "execution_count": 11,
   "id": "a2ebe257-d9e9-470c-855a-4423e519b533",
   "metadata": {},
   "outputs": [],
   "source": [
    "import random\n",
    "\n",
    "seed = 42\n",
    "torch.manual_seed(seed)\n",
    "random.seed(seed)"
   ]
  },
  {
   "cell_type": "markdown",
   "id": "dcebf4ae-e0cf-4f99-bda6-12a2c4654d7e",
   "metadata": {},
   "source": [
    "Model - **DO NOT CHANGE THIS**"
   ]
  },
  {
   "cell_type": "code",
   "execution_count": 12,
   "id": "2ad346a9-e39f-4a55-bae9-4127122091dd",
   "metadata": {},
   "outputs": [],
   "source": [
    "class CNNModel(nn.Module):\n",
    "    def __init__(self):\n",
    "        super(CNNModel, self).__init__()\n",
    "\n",
    "        # Block 1\n",
    "        self.cnn1 = nn.Conv2d(in_channels=1, out_channels=16, kernel_size=5, stride=1, padding=2)\n",
    "        self.relu1 = nn.ReLU()\n",
    "        self.bn1 = nn.BatchNorm2d(16)\n",
    "        self.MaxPool1 = nn.MaxPool2d(kernel_size=2)\n",
    "\n",
    "        # Block 2\n",
    "        self.cnn2 = nn.Conv2d(16, 32, kernel_size=5, stride=1, padding=2)\n",
    "        self.relu2 = nn.ReLU()\n",
    "        self.bn2 = nn.BatchNorm2d(32)\n",
    "        self.MaxPool2 = nn.MaxPool2d(kernel_size=2)\n",
    "\n",
    "        # Block 3\n",
    "        self.cnn3 = nn.Conv2d(32, 64, kernel_size=5, stride=1, padding=2)\n",
    "        self.relu3 = nn.ReLU()\n",
    "        self.bn3 = nn.BatchNorm2d(64)\n",
    "        self.MaxPool3 = nn.MaxPool2d(kernel_size=2)\n",
    "\n",
    "        self.fc1 = nn.Linear(576, 10)  # Fully connected layer\n",
    "\n",
    "    def forward(self, x):\n",
    "        out = self.MaxPool1(self.bn1(self.relu1(self.cnn1(x))))\n",
    "        out = self.MaxPool2(self.bn2(self.relu2(self.cnn2(out))))\n",
    "        out = self.MaxPool3(self.bn3(self.relu3(self.cnn3(out))))\n",
    "\n",
    "        out = out.view(out.size(0), -1)\n",
    "        out = self.fc1(out)\n",
    "\n",
    "        return out"
   ]
  },
  {
   "cell_type": "markdown",
   "id": "bfe0911c-7041-4fef-8ad2-1de4b2f8d5fa",
   "metadata": {},
   "source": [
    "Load Fashion-MNIST data. 128 training samples, 10k test samples. **DO NOT CHANGE THIS**"
   ]
  },
  {
   "cell_type": "code",
   "execution_count": 13,
   "id": "f9c48c70-708c-4542-bb94-51a95ccb34ad",
   "metadata": {},
   "outputs": [
    {
     "name": "stdout",
     "output_type": "stream",
     "text": [
      "Training set size: 128\n",
      "Test set size: 10000\n"
     ]
    }
   ],
   "source": [
    "transform = transforms.Compose([transforms.ToTensor()])\n",
    "        \n",
    "# Load full dataset\n",
    "full_train_dataset = torchvision.datasets.FashionMNIST(root=\"./data\", train=True, download=True, transform=transform)\n",
    "test_dataset = torchvision.datasets.FashionMNIST(root=\"./data\", train=False, download=True, transform=transform)\n",
    "\n",
    "batch_size = 128\n",
    "\n",
    "# Slice small set of data\n",
    "indices = random.sample(range(len(full_train_dataset)), batch_size)\n",
    "train_dataset = Subset(full_train_dataset, indices)\n",
    "\n",
    "# Create DataLoaders\n",
    "train_loader = DataLoader(train_dataset, batch_size=batch_size, shuffle=True)\n",
    "test_loader = DataLoader(test_dataset, batch_size=batch_size, shuffle=False)\n",
    "\n",
    "print(\"Training set size:\", len(train_loader.dataset))\n",
    "print(\"Test set size:\", len(test_loader.dataset))"
   ]
  },
  {
   "cell_type": "markdown",
   "id": "ee3a6d2e-9ead-44b0-9e60-ccd4373cb081",
   "metadata": {},
   "source": [
    "We recommend writing a general training function that implements all three alternative models.\n",
    "\n",
    "Below **train_model()** function is a template that already has some functionality for storing the errors, doing evaluation over test dataset and printing results.\n",
    "\n",
    "You should think about how to implement alternative ways of doing transfer learning.\n",
    "\n",
    "Once you have this function, you can simply run the following cells to try out the alternative approaches."
   ]
  },
  {
   "cell_type": "code",
   "execution_count": 14,
   "id": "153e0b55-ed3f-4e10-9f2f-9ae0d567301b",
   "metadata": {},
   "outputs": [],
   "source": [
    "# Training function\n",
    "def train_model(model, train_loader, test_loader, optimizer, criterion, epochs, freeze_layers):\n",
    "\tfor param in model.parameters():\n",
    "\t\tparam.requires_grad = True\n",
    "\tif freeze_layers:\n",
    "\t\t# TODO - Implement what happens when you fix weights of all other layers and train only the last layer.\n",
    "\t\tfor param in model.parameters():\n",
    "\t\t\tparam.requires_grad = False\n",
    "\t\tfor param in model.fc1.parameters():\n",
    "\t\t\tparam.requires_grad = True\n",
    "\n",
    "\ttrain_losses = []\n",
    "\ttest_losses = []\n",
    "\ttrain_accs = []\n",
    "\ttest_accs = []\n",
    "\t\n",
    "\t# Training Loop\n",
    "\tfor epoch in range(epochs):\n",
    "\t\tmodel.train()\n",
    "\t\ttotal_loss, correct, total = 0, 0, 0\n",
    "\t\tfor images, labels in train_loader:\n",
    "\t\t\t\n",
    "\t\t\t# TODO - Implement the missing parts of the training loop\n",
    "\t\t\toptimizer.zero_grad()\n",
    "\t\t\toutputs = model(images)\n",
    "\t\t\tloss = criterion(outputs, labels)\n",
    "\t\t\tloss.backward()\n",
    "\t\t\t\n",
    "\t\t\toptimizer.step()\n",
    "\t\t\ttotal_loss += loss.item() * images.size(0)\n",
    "\t\t\t_, predicted = torch.max(outputs, 1)\n",
    "\t\t\tcorrect += (predicted == labels).sum().item()\n",
    "\t\t\ttotal += labels.size(0)\n",
    "\t\ttrain_losses.append(total_loss / total)\n",
    "\t\ttrain_accs.append(100 * correct / total)\n",
    "\n",
    "\t\t# Evaluation\n",
    "\t\tmodel.eval()\n",
    "\t\ttest_loss_total, correct, total = 0, 0, 0\n",
    "\t\twith torch.no_grad():\n",
    "\t\t\tfor images, labels in test_loader:\n",
    "\t\t\t\toutputs = model(images)\n",
    "\t\t\t\tloss = criterion(outputs, labels)\n",
    "\t\t\t\ttest_loss_total += loss.item() * images.size(0)\n",
    "\t\t\t\t_, predicted = torch.max(outputs, 1)\n",
    "\t\t\t\tcorrect += (predicted == labels).sum().item()\n",
    "\t\t\t\ttotal += labels.size(0)\n",
    "\t\ttest_losses.append(test_loss_total / total)\n",
    "\t\ttest_accs.append(100 * correct / total)\n",
    "\n",
    "\t\tprint(f\"Epoch {epoch+1:>2}/{epochs} | \"\n",
    "\t\t\tf\"Train Loss: {train_losses[-1]:.4f} | Train Acc: {train_accs[-1]:.2f}% | \"\n",
    "\t\t\tf\"Test Loss: {test_losses[-1]:.4f} | Test Acc: {test_accs[-1]:.2f}%\")\n",
    "\n",
    "\treturn train_losses, test_losses, train_accs, test_accs"
   ]
  },
  {
   "cell_type": "markdown",
   "id": "4dde5833-9385-406a-97f4-c7e4885d4120",
   "metadata": {},
   "source": [
    "## (2a) From Scratch\n",
    "\n",
    "Create a new CNNModel and train from scratch."
   ]
  },
  {
   "cell_type": "code",
   "execution_count": 15,
   "id": "e131f0bd-c882-44db-b7f3-b5fb5732bc7c",
   "metadata": {},
   "outputs": [
    {
     "name": "stdout",
     "output_type": "stream",
     "text": [
      "Epoch  1/80 | Train Loss: 2.5355 | Train Acc: 10.16% | Test Loss: 2.3114 | Test Acc: 18.27%\n",
      "Epoch  2/80 | Train Loss: 2.2945 | Train Acc: 59.38% | Test Loss: 2.1899 | Test Acc: 17.21%\n",
      "Epoch  3/80 | Train Loss: 1.7182 | Train Acc: 48.44% | Test Loss: 2.0385 | Test Acc: 28.75%\n",
      "Epoch  4/80 | Train Loss: 1.0556 | Train Acc: 71.09% | Test Loss: 2.0839 | Test Acc: 29.95%\n",
      "Epoch  5/80 | Train Loss: 0.6350 | Train Acc: 78.91% | Test Loss: 2.5931 | Test Acc: 18.45%\n",
      "Epoch  6/80 | Train Loss: 0.5864 | Train Acc: 78.91% | Test Loss: 3.3036 | Test Acc: 10.36%\n",
      "Epoch  7/80 | Train Loss: 0.3906 | Train Acc: 82.03% | Test Loss: 3.9042 | Test Acc: 10.02%\n",
      "Epoch  8/80 | Train Loss: 0.2764 | Train Acc: 89.84% | Test Loss: 4.5552 | Test Acc: 10.00%\n",
      "Epoch  9/80 | Train Loss: 0.2530 | Train Acc: 91.41% | Test Loss: 5.3756 | Test Acc: 10.00%\n",
      "Epoch 10/80 | Train Loss: 0.2090 | Train Acc: 94.53% | Test Loss: 6.1959 | Test Acc: 10.05%\n",
      "Epoch 11/80 | Train Loss: 0.1708 | Train Acc: 95.31% | Test Loss: 6.8260 | Test Acc: 10.00%\n",
      "Epoch 12/80 | Train Loss: 0.1187 | Train Acc: 96.88% | Test Loss: 7.2853 | Test Acc: 10.00%\n",
      "Epoch 13/80 | Train Loss: 0.0910 | Train Acc: 98.44% | Test Loss: 7.6983 | Test Acc: 10.00%\n",
      "Epoch 14/80 | Train Loss: 0.0826 | Train Acc: 98.44% | Test Loss: 8.1482 | Test Acc: 10.00%\n",
      "Epoch 15/80 | Train Loss: 0.0634 | Train Acc: 99.22% | Test Loss: 8.6278 | Test Acc: 10.00%\n",
      "Epoch 16/80 | Train Loss: 0.0439 | Train Acc: 100.00% | Test Loss: 9.0520 | Test Acc: 10.00%\n",
      "Epoch 17/80 | Train Loss: 0.0365 | Train Acc: 100.00% | Test Loss: 9.3420 | Test Acc: 10.00%\n",
      "Epoch 18/80 | Train Loss: 0.0317 | Train Acc: 100.00% | Test Loss: 9.4866 | Test Acc: 10.02%\n",
      "Epoch 19/80 | Train Loss: 0.0258 | Train Acc: 100.00% | Test Loss: 9.5455 | Test Acc: 10.07%\n",
      "Epoch 20/80 | Train Loss: 0.0225 | Train Acc: 100.00% | Test Loss: 9.5619 | Test Acc: 10.19%\n",
      "Epoch 21/80 | Train Loss: 0.0200 | Train Acc: 100.00% | Test Loss: 9.5620 | Test Acc: 10.36%\n",
      "Epoch 22/80 | Train Loss: 0.0153 | Train Acc: 100.00% | Test Loss: 9.5487 | Test Acc: 10.67%\n",
      "Epoch 23/80 | Train Loss: 0.0111 | Train Acc: 100.00% | Test Loss: 9.5174 | Test Acc: 11.18%\n",
      "Epoch 24/80 | Train Loss: 0.0088 | Train Acc: 100.00% | Test Loss: 9.4511 | Test Acc: 11.87%\n",
      "Epoch 25/80 | Train Loss: 0.0078 | Train Acc: 100.00% | Test Loss: 9.3389 | Test Acc: 12.61%\n",
      "Epoch 26/80 | Train Loss: 0.0070 | Train Acc: 100.00% | Test Loss: 9.1800 | Test Acc: 13.59%\n",
      "Epoch 27/80 | Train Loss: 0.0061 | Train Acc: 100.00% | Test Loss: 8.9853 | Test Acc: 14.98%\n",
      "Epoch 28/80 | Train Loss: 0.0051 | Train Acc: 100.00% | Test Loss: 8.7738 | Test Acc: 16.98%\n",
      "Epoch 29/80 | Train Loss: 0.0042 | Train Acc: 100.00% | Test Loss: 8.5581 | Test Acc: 19.16%\n",
      "Epoch 30/80 | Train Loss: 0.0036 | Train Acc: 100.00% | Test Loss: 8.3566 | Test Acc: 21.16%\n",
      "Epoch 31/80 | Train Loss: 0.0031 | Train Acc: 100.00% | Test Loss: 8.1732 | Test Acc: 23.22%\n",
      "Epoch 32/80 | Train Loss: 0.0028 | Train Acc: 100.00% | Test Loss: 8.0036 | Test Acc: 24.95%\n",
      "Epoch 33/80 | Train Loss: 0.0025 | Train Acc: 100.00% | Test Loss: 7.8457 | Test Acc: 26.44%\n",
      "Epoch 34/80 | Train Loss: 0.0022 | Train Acc: 100.00% | Test Loss: 7.6961 | Test Acc: 27.83%\n",
      "Epoch 35/80 | Train Loss: 0.0019 | Train Acc: 100.00% | Test Loss: 7.5517 | Test Acc: 29.01%\n",
      "Epoch 36/80 | Train Loss: 0.0017 | Train Acc: 100.00% | Test Loss: 7.4095 | Test Acc: 30.80%\n",
      "Epoch 37/80 | Train Loss: 0.0015 | Train Acc: 100.00% | Test Loss: 7.2662 | Test Acc: 32.19%\n",
      "Epoch 38/80 | Train Loss: 0.0014 | Train Acc: 100.00% | Test Loss: 7.1187 | Test Acc: 33.37%\n",
      "Epoch 39/80 | Train Loss: 0.0013 | Train Acc: 100.00% | Test Loss: 6.9649 | Test Acc: 34.94%\n",
      "Epoch 40/80 | Train Loss: 0.0012 | Train Acc: 100.00% | Test Loss: 6.8031 | Test Acc: 36.55%\n",
      "Epoch 41/80 | Train Loss: 0.0011 | Train Acc: 100.00% | Test Loss: 6.6333 | Test Acc: 38.10%\n",
      "Epoch 42/80 | Train Loss: 0.0010 | Train Acc: 100.00% | Test Loss: 6.4561 | Test Acc: 39.86%\n",
      "Epoch 43/80 | Train Loss: 0.0010 | Train Acc: 100.00% | Test Loss: 6.2718 | Test Acc: 41.54%\n",
      "Epoch 44/80 | Train Loss: 0.0009 | Train Acc: 100.00% | Test Loss: 6.0804 | Test Acc: 43.09%\n",
      "Epoch 45/80 | Train Loss: 0.0009 | Train Acc: 100.00% | Test Loss: 5.8841 | Test Acc: 44.86%\n",
      "Epoch 46/80 | Train Loss: 0.0008 | Train Acc: 100.00% | Test Loss: 5.6846 | Test Acc: 46.36%\n",
      "Epoch 47/80 | Train Loss: 0.0008 | Train Acc: 100.00% | Test Loss: 5.4836 | Test Acc: 47.82%\n",
      "Epoch 48/80 | Train Loss: 0.0007 | Train Acc: 100.00% | Test Loss: 5.2828 | Test Acc: 49.38%\n",
      "Epoch 49/80 | Train Loss: 0.0007 | Train Acc: 100.00% | Test Loss: 5.0840 | Test Acc: 50.96%\n",
      "Epoch 50/80 | Train Loss: 0.0007 | Train Acc: 100.00% | Test Loss: 4.8892 | Test Acc: 52.23%\n",
      "Epoch 51/80 | Train Loss: 0.0006 | Train Acc: 100.00% | Test Loss: 4.6998 | Test Acc: 53.60%\n",
      "Epoch 52/80 | Train Loss: 0.0006 | Train Acc: 100.00% | Test Loss: 4.5172 | Test Acc: 54.69%\n",
      "Epoch 53/80 | Train Loss: 0.0006 | Train Acc: 100.00% | Test Loss: 4.3428 | Test Acc: 56.09%\n",
      "Epoch 54/80 | Train Loss: 0.0005 | Train Acc: 100.00% | Test Loss: 4.1780 | Test Acc: 57.27%\n",
      "Epoch 55/80 | Train Loss: 0.0005 | Train Acc: 100.00% | Test Loss: 4.0233 | Test Acc: 58.41%\n",
      "Epoch 56/80 | Train Loss: 0.0005 | Train Acc: 100.00% | Test Loss: 3.8790 | Test Acc: 59.37%\n",
      "Epoch 57/80 | Train Loss: 0.0005 | Train Acc: 100.00% | Test Loss: 3.7451 | Test Acc: 60.41%\n",
      "Epoch 58/80 | Train Loss: 0.0005 | Train Acc: 100.00% | Test Loss: 3.6212 | Test Acc: 61.32%\n",
      "Epoch 59/80 | Train Loss: 0.0004 | Train Acc: 100.00% | Test Loss: 3.5076 | Test Acc: 62.19%\n",
      "Epoch 60/80 | Train Loss: 0.0004 | Train Acc: 100.00% | Test Loss: 3.4037 | Test Acc: 62.71%\n",
      "Epoch 61/80 | Train Loss: 0.0004 | Train Acc: 100.00% | Test Loss: 3.3092 | Test Acc: 63.33%\n",
      "Epoch 62/80 | Train Loss: 0.0004 | Train Acc: 100.00% | Test Loss: 3.2234 | Test Acc: 63.90%\n",
      "Epoch 63/80 | Train Loss: 0.0004 | Train Acc: 100.00% | Test Loss: 3.1461 | Test Acc: 64.22%\n",
      "Epoch 64/80 | Train Loss: 0.0004 | Train Acc: 100.00% | Test Loss: 3.0767 | Test Acc: 64.67%\n",
      "Epoch 65/80 | Train Loss: 0.0004 | Train Acc: 100.00% | Test Loss: 3.0146 | Test Acc: 65.02%\n",
      "Epoch 66/80 | Train Loss: 0.0004 | Train Acc: 100.00% | Test Loss: 2.9593 | Test Acc: 65.37%\n",
      "Epoch 67/80 | Train Loss: 0.0003 | Train Acc: 100.00% | Test Loss: 2.9103 | Test Acc: 65.68%\n",
      "Epoch 68/80 | Train Loss: 0.0003 | Train Acc: 100.00% | Test Loss: 2.8670 | Test Acc: 66.15%\n",
      "Epoch 69/80 | Train Loss: 0.0003 | Train Acc: 100.00% | Test Loss: 2.8291 | Test Acc: 66.40%\n",
      "Epoch 70/80 | Train Loss: 0.0003 | Train Acc: 100.00% | Test Loss: 2.7961 | Test Acc: 66.70%\n",
      "Epoch 71/80 | Train Loss: 0.0003 | Train Acc: 100.00% | Test Loss: 2.7675 | Test Acc: 66.77%\n",
      "Epoch 72/80 | Train Loss: 0.0003 | Train Acc: 100.00% | Test Loss: 2.7429 | Test Acc: 66.95%\n",
      "Epoch 73/80 | Train Loss: 0.0003 | Train Acc: 100.00% | Test Loss: 2.7217 | Test Acc: 67.06%\n",
      "Epoch 74/80 | Train Loss: 0.0003 | Train Acc: 100.00% | Test Loss: 2.7036 | Test Acc: 67.07%\n",
      "Epoch 75/80 | Train Loss: 0.0003 | Train Acc: 100.00% | Test Loss: 2.6882 | Test Acc: 67.28%\n",
      "Epoch 76/80 | Train Loss: 0.0003 | Train Acc: 100.00% | Test Loss: 2.6752 | Test Acc: 67.38%\n",
      "Epoch 77/80 | Train Loss: 0.0003 | Train Acc: 100.00% | Test Loss: 2.6642 | Test Acc: 67.55%\n",
      "Epoch 78/80 | Train Loss: 0.0003 | Train Acc: 100.00% | Test Loss: 2.6549 | Test Acc: 67.54%\n",
      "Epoch 79/80 | Train Loss: 0.0003 | Train Acc: 100.00% | Test Loss: 2.6470 | Test Acc: 67.58%\n",
      "Epoch 80/80 | Train Loss: 0.0003 | Train Acc: 100.00% | Test Loss: 2.6405 | Test Acc: 67.73%\n"
     ]
    }
   ],
   "source": [
    "model1 = CNNModel()\n",
    "criterion = nn.CrossEntropyLoss()\n",
    "optimizer1 = torch.optim.Adam(model1.parameters(), lr=0.01)\n",
    "epochs = 80 # TODO\n",
    "freeze_layers = False\n",
    "train_loss1, test_loss1, train_acc1, test_acc1 = train_model(model1, train_loader, test_loader, optimizer1,\n",
    "                                                             criterion, epochs=epochs, freeze_layers=freeze_layers)"
   ]
  },
  {
   "cell_type": "code",
   "execution_count": 16,
   "id": "651b41ed-fff8-4557-95f4-610f494f01e5",
   "metadata": {},
   "outputs": [
    {
     "data": {
      "image/png": "[encoded data removed]",
      "text/plain": [
       "<Figure size 600x400 with 1 Axes>"
      ]
     },
     "metadata": {},
     "output_type": "display_data"
    }
   ],
   "source": [
    "epoch_range = range(1, epochs + 1)\n",
    "plt.figure(figsize=(6, 4))\n",
    "plt.plot(epoch_range, train_loss1, label=\"Train Loss\")\n",
    "plt.plot(epoch_range, test_loss1, label=\"Test Loss\")\n",
    "plt.xlabel(\"Epoch\")\n",
    "plt.ylabel(\"Loss\")\n",
    "plt.title(\"Loss (from scratch)\")\n",
    "plt.legend()\n",
    "plt.tight_layout()\n",
    "plt.show()"
   ]
  },
  {
   "cell_type": "markdown",
   "id": "f376b7b9-cb7e-448f-b424-6965f94fe010",
   "metadata": {},
   "source": [
    "## (2b) Train only last layer of pre-trained model\n",
    "\n",
    "Create a new CNNModel, load pre-trained weights, fix the weights of all other layers and only train the last layer. \n",
    "\n",
    "Remember to implement what happens when **freeze_layers = True** in the given **train_model()** function."
   ]
  },
  {
   "cell_type": "code",
   "execution_count": 17,
   "id": "3052fc64-1635-48c2-8879-60d7fed3327c",
   "metadata": {},
   "outputs": [
    {
     "name": "stdout",
     "output_type": "stream",
     "text": [
      "Epoch  1/80 | Train Loss: 10.3249 | Train Acc: 13.28% | Test Loss: 3.0147 | Test Acc: 39.32%\n",
      "Epoch  2/80 | Train Loss: 3.4460 | Train Acc: 43.75% | Test Loss: 3.2048 | Test Acc: 56.08%\n",
      "Epoch  3/80 | Train Loss: 3.1511 | Train Acc: 72.66% | Test Loss: 3.3700 | Test Acc: 59.06%\n",
      "Epoch  4/80 | Train Loss: 1.9749 | Train Acc: 79.69% | Test Loss: 2.9154 | Test Acc: 61.84%\n",
      "Epoch  5/80 | Train Loss: 0.6611 | Train Acc: 90.62% | Test Loss: 3.0037 | Test Acc: 63.33%\n",
      "Epoch  6/80 | Train Loss: 0.4080 | Train Acc: 95.31% | Test Loss: 3.4448 | Test Acc: 63.42%\n",
      "Epoch  7/80 | Train Loss: 0.5448 | Train Acc: 93.75% | Test Loss: 3.6659 | Test Acc: 64.79%\n",
      "Epoch  8/80 | Train Loss: 0.3904 | Train Acc: 95.31% | Test Loss: 3.7455 | Test Acc: 66.05%\n",
      "Epoch  9/80 | Train Loss: 0.1380 | Train Acc: 97.66% | Test Loss: 3.9811 | Test Acc: 66.27%\n",
      "Epoch 10/80 | Train Loss: 0.0928 | Train Acc: 97.66% | Test Loss: 4.2786 | Test Acc: 66.39%\n",
      "Epoch 11/80 | Train Loss: 0.0866 | Train Acc: 97.66% | Test Loss: 4.5356 | Test Acc: 66.37%\n",
      "Epoch 12/80 | Train Loss: 0.0220 | Train Acc: 98.44% | Test Loss: 4.7854 | Test Acc: 66.39%\n",
      "Epoch 13/80 | Train Loss: 0.0069 | Train Acc: 100.00% | Test Loss: 5.0492 | Test Acc: 66.41%\n",
      "Epoch 14/80 | Train Loss: 0.0027 | Train Acc: 100.00% | Test Loss: 5.3184 | Test Acc: 66.22%\n",
      "Epoch 15/80 | Train Loss: 0.0016 | Train Acc: 100.00% | Test Loss: 5.5832 | Test Acc: 66.34%\n",
      "Epoch 16/80 | Train Loss: 0.0033 | Train Acc: 100.00% | Test Loss: 5.8347 | Test Acc: 66.29%\n",
      "Epoch 17/80 | Train Loss: 0.0066 | Train Acc: 100.00% | Test Loss: 6.0631 | Test Acc: 66.20%\n",
      "Epoch 18/80 | Train Loss: 0.0057 | Train Acc: 100.00% | Test Loss: 6.2701 | Test Acc: 66.12%\n",
      "Epoch 19/80 | Train Loss: 0.0038 | Train Acc: 100.00% | Test Loss: 6.4603 | Test Acc: 66.01%\n",
      "Epoch 20/80 | Train Loss: 0.0028 | Train Acc: 100.00% | Test Loss: 6.6362 | Test Acc: 66.08%\n",
      "Epoch 21/80 | Train Loss: 0.0020 | Train Acc: 100.00% | Test Loss: 6.8006 | Test Acc: 66.04%\n",
      "Epoch 22/80 | Train Loss: 0.0012 | Train Acc: 100.00% | Test Loss: 6.9553 | Test Acc: 66.06%\n",
      "Epoch 23/80 | Train Loss: 0.0008 | Train Acc: 100.00% | Test Loss: 7.1009 | Test Acc: 65.92%\n",
      "Epoch 24/80 | Train Loss: 0.0005 | Train Acc: 100.00% | Test Loss: 7.2375 | Test Acc: 65.79%\n",
      "Epoch 25/80 | Train Loss: 0.0003 | Train Acc: 100.00% | Test Loss: 7.3653 | Test Acc: 65.69%\n",
      "Epoch 26/80 | Train Loss: 0.0002 | Train Acc: 100.00% | Test Loss: 7.4847 | Test Acc: 65.51%\n",
      "Epoch 27/80 | Train Loss: 0.0002 | Train Acc: 100.00% | Test Loss: 7.5960 | Test Acc: 65.37%\n",
      "Epoch 28/80 | Train Loss: 0.0002 | Train Acc: 100.00% | Test Loss: 7.6995 | Test Acc: 65.25%\n",
      "Epoch 29/80 | Train Loss: 0.0001 | Train Acc: 100.00% | Test Loss: 7.7955 | Test Acc: 65.15%\n",
      "Epoch 30/80 | Train Loss: 0.0001 | Train Acc: 100.00% | Test Loss: 7.8843 | Test Acc: 65.15%\n",
      "Epoch 31/80 | Train Loss: 0.0001 | Train Acc: 100.00% | Test Loss: 7.9662 | Test Acc: 65.17%\n",
      "Epoch 32/80 | Train Loss: 0.0001 | Train Acc: 100.00% | Test Loss: 8.0417 | Test Acc: 65.21%\n",
      "Epoch 33/80 | Train Loss: 0.0001 | Train Acc: 100.00% | Test Loss: 8.1112 | Test Acc: 65.15%\n",
      "Epoch 34/80 | Train Loss: 0.0001 | Train Acc: 100.00% | Test Loss: 8.1749 | Test Acc: 65.19%\n",
      "Epoch 35/80 | Train Loss: 0.0001 | Train Acc: 100.00% | Test Loss: 8.2333 | Test Acc: 65.13%\n",
      "Epoch 36/80 | Train Loss: 0.0001 | Train Acc: 100.00% | Test Loss: 8.2867 | Test Acc: 65.11%\n",
      "Epoch 37/80 | Train Loss: 0.0001 | Train Acc: 100.00% | Test Loss: 8.3355 | Test Acc: 65.00%\n",
      "Epoch 38/80 | Train Loss: 0.0001 | Train Acc: 100.00% | Test Loss: 8.3800 | Test Acc: 64.99%\n",
      "Epoch 39/80 | Train Loss: 0.0001 | Train Acc: 100.00% | Test Loss: 8.4205 | Test Acc: 64.93%\n",
      "Epoch 40/80 | Train Loss: 0.0001 | Train Acc: 100.00% | Test Loss: 8.4574 | Test Acc: 64.82%\n",
      "Epoch 41/80 | Train Loss: 0.0001 | Train Acc: 100.00% | Test Loss: 8.4909 | Test Acc: 64.75%\n",
      "Epoch 42/80 | Train Loss: 0.0001 | Train Acc: 100.00% | Test Loss: 8.5214 | Test Acc: 64.72%\n",
      "Epoch 43/80 | Train Loss: 0.0001 | Train Acc: 100.00% | Test Loss: 8.5490 | Test Acc: 64.70%\n",
      "Epoch 44/80 | Train Loss: 0.0001 | Train Acc: 100.00% | Test Loss: 8.5739 | Test Acc: 64.69%\n",
      "Epoch 45/80 | Train Loss: 0.0001 | Train Acc: 100.00% | Test Loss: 8.5965 | Test Acc: 64.67%\n",
      "Epoch 46/80 | Train Loss: 0.0001 | Train Acc: 100.00% | Test Loss: 8.6170 | Test Acc: 64.63%\n",
      "Epoch 47/80 | Train Loss: 0.0001 | Train Acc: 100.00% | Test Loss: 8.6354 | Test Acc: 64.63%\n",
      "Epoch 48/80 | Train Loss: 0.0001 | Train Acc: 100.00% | Test Loss: 8.6521 | Test Acc: 64.60%\n",
      "Epoch 49/80 | Train Loss: 0.0001 | Train Acc: 100.00% | Test Loss: 8.6670 | Test Acc: 64.55%\n",
      "Epoch 50/80 | Train Loss: 0.0001 | Train Acc: 100.00% | Test Loss: 8.6805 | Test Acc: 64.54%\n",
      "Epoch 51/80 | Train Loss: 0.0001 | Train Acc: 100.00% | Test Loss: 8.6927 | Test Acc: 64.51%\n",
      "Epoch 52/80 | Train Loss: 0.0001 | Train Acc: 100.00% | Test Loss: 8.7036 | Test Acc: 64.51%\n",
      "Epoch 53/80 | Train Loss: 0.0001 | Train Acc: 100.00% | Test Loss: 8.7134 | Test Acc: 64.49%\n",
      "Epoch 54/80 | Train Loss: 0.0001 | Train Acc: 100.00% | Test Loss: 8.7222 | Test Acc: 64.48%\n",
      "Epoch 55/80 | Train Loss: 0.0001 | Train Acc: 100.00% | Test Loss: 8.7300 | Test Acc: 64.48%\n",
      "Epoch 56/80 | Train Loss: 0.0001 | Train Acc: 100.00% | Test Loss: 8.7371 | Test Acc: 64.46%\n",
      "Epoch 57/80 | Train Loss: 0.0001 | Train Acc: 100.00% | Test Loss: 8.7433 | Test Acc: 64.47%\n",
      "Epoch 58/80 | Train Loss: 0.0001 | Train Acc: 100.00% | Test Loss: 8.7489 | Test Acc: 64.47%\n",
      "Epoch 59/80 | Train Loss: 0.0001 | Train Acc: 100.00% | Test Loss: 8.7539 | Test Acc: 64.48%\n",
      "Epoch 60/80 | Train Loss: 0.0001 | Train Acc: 100.00% | Test Loss: 8.7584 | Test Acc: 64.48%\n",
      "Epoch 61/80 | Train Loss: 0.0001 | Train Acc: 100.00% | Test Loss: 8.7623 | Test Acc: 64.48%\n",
      "Epoch 62/80 | Train Loss: 0.0001 | Train Acc: 100.00% | Test Loss: 8.7658 | Test Acc: 64.49%\n",
      "Epoch 63/80 | Train Loss: 0.0000 | Train Acc: 100.00% | Test Loss: 8.7689 | Test Acc: 64.50%\n",
      "Epoch 64/80 | Train Loss: 0.0000 | Train Acc: 100.00% | Test Loss: 8.7716 | Test Acc: 64.50%\n",
      "Epoch 65/80 | Train Loss: 0.0000 | Train Acc: 100.00% | Test Loss: 8.7740 | Test Acc: 64.50%\n",
      "Epoch 66/80 | Train Loss: 0.0000 | Train Acc: 100.00% | Test Loss: 8.7761 | Test Acc: 64.51%\n",
      "Epoch 67/80 | Train Loss: 0.0000 | Train Acc: 100.00% | Test Loss: 8.7779 | Test Acc: 64.49%\n",
      "Epoch 68/80 | Train Loss: 0.0000 | Train Acc: 100.00% | Test Loss: 8.7795 | Test Acc: 64.49%\n",
      "Epoch 69/80 | Train Loss: 0.0000 | Train Acc: 100.00% | Test Loss: 8.7808 | Test Acc: 64.51%\n",
      "Epoch 70/80 | Train Loss: 0.0000 | Train Acc: 100.00% | Test Loss: 8.7820 | Test Acc: 64.51%\n",
      "Epoch 71/80 | Train Loss: 0.0000 | Train Acc: 100.00% | Test Loss: 8.7830 | Test Acc: 64.51%\n",
      "Epoch 72/80 | Train Loss: 0.0000 | Train Acc: 100.00% | Test Loss: 8.7838 | Test Acc: 64.51%\n",
      "Epoch 73/80 | Train Loss: 0.0000 | Train Acc: 100.00% | Test Loss: 8.7845 | Test Acc: 64.50%\n",
      "Epoch 74/80 | Train Loss: 0.0000 | Train Acc: 100.00% | Test Loss: 8.7850 | Test Acc: 64.49%\n",
      "Epoch 75/80 | Train Loss: 0.0000 | Train Acc: 100.00% | Test Loss: 8.7855 | Test Acc: 64.49%\n",
      "Epoch 76/80 | Train Loss: 0.0000 | Train Acc: 100.00% | Test Loss: 8.7858 | Test Acc: 64.49%\n",
      "Epoch 77/80 | Train Loss: 0.0000 | Train Acc: 100.00% | Test Loss: 8.7861 | Test Acc: 64.49%\n",
      "Epoch 78/80 | Train Loss: 0.0000 | Train Acc: 100.00% | Test Loss: 8.7863 | Test Acc: 64.49%\n",
      "Epoch 79/80 | Train Loss: 0.0000 | Train Acc: 100.00% | Test Loss: 8.7864 | Test Acc: 64.50%\n",
      "Epoch 80/80 | Train Loss: 0.0000 | Train Acc: 100.00% | Test Loss: 8.7864 | Test Acc: 64.50%\n"
     ]
    }
   ],
   "source": [
    "# Transfer Learning: Freeze all but last layer\n",
    "model2 = CNNModel()\n",
    "model2.load_state_dict(torch.load(\"pretrained_MNIST_model.pt\"))\n",
    "optimizer2 = torch.optim.Adam(model2.parameters(), lr=0.05)\n",
    "epochs = 80 # TODO\n",
    "freeze_layers = True\n",
    "train_loss2, test_loss2, train_acc2, test_acc2 = train_model(model2, train_loader, test_loader, optimizer2, \n",
    "                                                             criterion, epochs=epochs, freeze_layers=freeze_layers)"
   ]
  },
  {
   "cell_type": "code",
   "execution_count": 18,
   "id": "147d8d8b-129e-4b32-97f0-d3af4ac7a0e9",
   "metadata": {},
   "outputs": [
    {
     "data": {
      "image/png": "[encoded data removed]",
      "text/plain": [
       "<Figure size 600x400 with 1 Axes>"
      ]
     },
     "metadata": {},
     "output_type": "display_data"
    }
   ],
   "source": [
    "epoch_range = range(1, epochs + 1)\n",
    "plt.figure(figsize=(6, 4))\n",
    "plt.plot(epoch_range, train_loss2, label=\"Train Loss\")\n",
    "plt.plot(epoch_range, test_loss2, label=\"Test Loss\")\n",
    "plt.xlabel(\"Epoch\")\n",
    "plt.ylabel(\"Loss\")\n",
    "plt.title(\"Loss (Pre-trained model: train only last layer)\")\n",
    "plt.legend()\n",
    "plt.tight_layout()\n",
    "plt.show()"
   ]
  },
  {
   "cell_type": "markdown",
   "id": "3a4eb426-9459-42b3-afdd-ee2573d4650b",
   "metadata": {},
   "source": [
    "## (2c) Train all layers of pre-trained model\n",
    "\n",
    "Create a new CNNModel, load pre-trained weights and fine-tune all weights."
   ]
  },
  {
   "cell_type": "code",
   "execution_count": 19,
   "id": "a18e992e-1777-45ce-97e4-34ac155ad19d",
   "metadata": {},
   "outputs": [
    {
     "name": "stdout",
     "output_type": "stream",
     "text": [
      "Epoch  1/80 | Train Loss: 10.3249 | Train Acc: 13.28% | Test Loss: 2.2430 | Test Acc: 29.70%\n",
      "Epoch  2/80 | Train Loss: 2.5464 | Train Acc: 40.62% | Test Loss: 2.1010 | Test Acc: 42.66%\n",
      "Epoch  3/80 | Train Loss: 1.1323 | Train Acc: 64.06% | Test Loss: 2.2624 | Test Acc: 45.03%\n",
      "Epoch  4/80 | Train Loss: 0.7314 | Train Acc: 74.22% | Test Loss: 1.9308 | Test Acc: 57.67%\n",
      "Epoch  5/80 | Train Loss: 0.3989 | Train Acc: 83.59% | Test Loss: 1.8112 | Test Acc: 61.76%\n",
      "Epoch  6/80 | Train Loss: 0.3248 | Train Acc: 87.50% | Test Loss: 1.9029 | Test Acc: 58.87%\n",
      "Epoch  7/80 | Train Loss: 0.2517 | Train Acc: 89.84% | Test Loss: 2.0201 | Test Acc: 59.11%\n",
      "Epoch  8/80 | Train Loss: 0.2049 | Train Acc: 93.75% | Test Loss: 2.0425 | Test Acc: 62.29%\n",
      "Epoch  9/80 | Train Loss: 0.1702 | Train Acc: 95.31% | Test Loss: 1.9814 | Test Acc: 63.44%\n",
      "Epoch 10/80 | Train Loss: 0.1278 | Train Acc: 96.88% | Test Loss: 1.8812 | Test Acc: 64.94%\n",
      "Epoch 11/80 | Train Loss: 0.0967 | Train Acc: 97.66% | Test Loss: 1.9258 | Test Acc: 64.62%\n",
      "Epoch 12/80 | Train Loss: 0.0698 | Train Acc: 99.22% | Test Loss: 1.9910 | Test Acc: 64.44%\n",
      "Epoch 13/80 | Train Loss: 0.0547 | Train Acc: 100.00% | Test Loss: 1.9470 | Test Acc: 65.22%\n",
      "Epoch 14/80 | Train Loss: 0.0385 | Train Acc: 100.00% | Test Loss: 1.9605 | Test Acc: 65.46%\n",
      "Epoch 15/80 | Train Loss: 0.0331 | Train Acc: 100.00% | Test Loss: 2.0629 | Test Acc: 64.75%\n",
      "Epoch 16/80 | Train Loss: 0.0253 | Train Acc: 100.00% | Test Loss: 2.1809 | Test Acc: 63.88%\n",
      "Epoch 17/80 | Train Loss: 0.0215 | Train Acc: 100.00% | Test Loss: 2.2108 | Test Acc: 64.03%\n",
      "Epoch 18/80 | Train Loss: 0.0169 | Train Acc: 100.00% | Test Loss: 2.1840 | Test Acc: 64.50%\n",
      "Epoch 19/80 | Train Loss: 0.0130 | Train Acc: 100.00% | Test Loss: 2.1755 | Test Acc: 64.71%\n",
      "Epoch 20/80 | Train Loss: 0.0110 | Train Acc: 100.00% | Test Loss: 2.2007 | Test Acc: 64.82%\n",
      "Epoch 21/80 | Train Loss: 0.0090 | Train Acc: 100.00% | Test Loss: 2.2502 | Test Acc: 64.65%\n",
      "Epoch 22/80 | Train Loss: 0.0072 | Train Acc: 100.00% | Test Loss: 2.3003 | Test Acc: 64.24%\n",
      "Epoch 23/80 | Train Loss: 0.0061 | Train Acc: 100.00% | Test Loss: 2.3285 | Test Acc: 64.36%\n",
      "Epoch 24/80 | Train Loss: 0.0054 | Train Acc: 100.00% | Test Loss: 2.3267 | Test Acc: 64.60%\n",
      "Epoch 25/80 | Train Loss: 0.0047 | Train Acc: 100.00% | Test Loss: 2.3071 | Test Acc: 65.18%\n",
      "Epoch 26/80 | Train Loss: 0.0039 | Train Acc: 100.00% | Test Loss: 2.2865 | Test Acc: 65.65%\n",
      "Epoch 27/80 | Train Loss: 0.0033 | Train Acc: 100.00% | Test Loss: 2.2754 | Test Acc: 65.91%\n",
      "Epoch 28/80 | Train Loss: 0.0029 | Train Acc: 100.00% | Test Loss: 2.2744 | Test Acc: 66.21%\n",
      "Epoch 29/80 | Train Loss: 0.0025 | Train Acc: 100.00% | Test Loss: 2.2824 | Test Acc: 66.22%\n",
      "Epoch 30/80 | Train Loss: 0.0022 | Train Acc: 100.00% | Test Loss: 2.2967 | Test Acc: 66.39%\n",
      "Epoch 31/80 | Train Loss: 0.0019 | Train Acc: 100.00% | Test Loss: 2.3152 | Test Acc: 66.34%\n",
      "Epoch 32/80 | Train Loss: 0.0016 | Train Acc: 100.00% | Test Loss: 2.3361 | Test Acc: 66.36%\n",
      "Epoch 33/80 | Train Loss: 0.0014 | Train Acc: 100.00% | Test Loss: 2.3574 | Test Acc: 66.23%\n",
      "Epoch 34/80 | Train Loss: 0.0012 | Train Acc: 100.00% | Test Loss: 2.3773 | Test Acc: 66.26%\n",
      "Epoch 35/80 | Train Loss: 0.0011 | Train Acc: 100.00% | Test Loss: 2.3944 | Test Acc: 66.12%\n",
      "Epoch 36/80 | Train Loss: 0.0010 | Train Acc: 100.00% | Test Loss: 2.4077 | Test Acc: 66.11%\n",
      "Epoch 37/80 | Train Loss: 0.0009 | Train Acc: 100.00% | Test Loss: 2.4167 | Test Acc: 66.11%\n",
      "Epoch 38/80 | Train Loss: 0.0008 | Train Acc: 100.00% | Test Loss: 2.4217 | Test Acc: 66.14%\n",
      "Epoch 39/80 | Train Loss: 0.0007 | Train Acc: 100.00% | Test Loss: 2.4238 | Test Acc: 66.22%\n",
      "Epoch 40/80 | Train Loss: 0.0007 | Train Acc: 100.00% | Test Loss: 2.4239 | Test Acc: 66.27%\n",
      "Epoch 41/80 | Train Loss: 0.0006 | Train Acc: 100.00% | Test Loss: 2.4230 | Test Acc: 66.26%\n",
      "Epoch 42/80 | Train Loss: 0.0006 | Train Acc: 100.00% | Test Loss: 2.4219 | Test Acc: 66.30%\n",
      "Epoch 43/80 | Train Loss: 0.0005 | Train Acc: 100.00% | Test Loss: 2.4213 | Test Acc: 66.39%\n",
      "Epoch 44/80 | Train Loss: 0.0005 | Train Acc: 100.00% | Test Loss: 2.4214 | Test Acc: 66.37%\n",
      "Epoch 45/80 | Train Loss: 0.0005 | Train Acc: 100.00% | Test Loss: 2.4224 | Test Acc: 66.43%\n",
      "Epoch 46/80 | Train Loss: 0.0004 | Train Acc: 100.00% | Test Loss: 2.4244 | Test Acc: 66.48%\n",
      "Epoch 47/80 | Train Loss: 0.0004 | Train Acc: 100.00% | Test Loss: 2.4273 | Test Acc: 66.61%\n",
      "Epoch 48/80 | Train Loss: 0.0004 | Train Acc: 100.00% | Test Loss: 2.4310 | Test Acc: 66.59%\n",
      "Epoch 49/80 | Train Loss: 0.0004 | Train Acc: 100.00% | Test Loss: 2.4354 | Test Acc: 66.63%\n",
      "Epoch 50/80 | Train Loss: 0.0004 | Train Acc: 100.00% | Test Loss: 2.4403 | Test Acc: 66.63%\n",
      "Epoch 51/80 | Train Loss: 0.0003 | Train Acc: 100.00% | Test Loss: 2.4457 | Test Acc: 66.69%\n",
      "Epoch 52/80 | Train Loss: 0.0003 | Train Acc: 100.00% | Test Loss: 2.4513 | Test Acc: 66.67%\n",
      "Epoch 53/80 | Train Loss: 0.0003 | Train Acc: 100.00% | Test Loss: 2.4573 | Test Acc: 66.69%\n",
      "Epoch 54/80 | Train Loss: 0.0003 | Train Acc: 100.00% | Test Loss: 2.4634 | Test Acc: 66.73%\n",
      "Epoch 55/80 | Train Loss: 0.0003 | Train Acc: 100.00% | Test Loss: 2.4694 | Test Acc: 66.74%\n",
      "Epoch 56/80 | Train Loss: 0.0003 | Train Acc: 100.00% | Test Loss: 2.4754 | Test Acc: 66.70%\n",
      "Epoch 57/80 | Train Loss: 0.0003 | Train Acc: 100.00% | Test Loss: 2.4813 | Test Acc: 66.64%\n",
      "Epoch 58/80 | Train Loss: 0.0002 | Train Acc: 100.00% | Test Loss: 2.4869 | Test Acc: 66.63%\n",
      "Epoch 59/80 | Train Loss: 0.0002 | Train Acc: 100.00% | Test Loss: 2.4923 | Test Acc: 66.59%\n",
      "Epoch 60/80 | Train Loss: 0.0002 | Train Acc: 100.00% | Test Loss: 2.4975 | Test Acc: 66.55%\n",
      "Epoch 61/80 | Train Loss: 0.0002 | Train Acc: 100.00% | Test Loss: 2.5023 | Test Acc: 66.57%\n",
      "Epoch 62/80 | Train Loss: 0.0002 | Train Acc: 100.00% | Test Loss: 2.5067 | Test Acc: 66.58%\n",
      "Epoch 63/80 | Train Loss: 0.0002 | Train Acc: 100.00% | Test Loss: 2.5108 | Test Acc: 66.57%\n",
      "Epoch 64/80 | Train Loss: 0.0002 | Train Acc: 100.00% | Test Loss: 2.5146 | Test Acc: 66.57%\n",
      "Epoch 65/80 | Train Loss: 0.0002 | Train Acc: 100.00% | Test Loss: 2.5180 | Test Acc: 66.57%\n",
      "Epoch 66/80 | Train Loss: 0.0002 | Train Acc: 100.00% | Test Loss: 2.5212 | Test Acc: 66.53%\n",
      "Epoch 67/80 | Train Loss: 0.0002 | Train Acc: 100.00% | Test Loss: 2.5240 | Test Acc: 66.52%\n",
      "Epoch 68/80 | Train Loss: 0.0002 | Train Acc: 100.00% | Test Loss: 2.5266 | Test Acc: 66.54%\n",
      "Epoch 69/80 | Train Loss: 0.0002 | Train Acc: 100.00% | Test Loss: 2.5290 | Test Acc: 66.53%\n",
      "Epoch 70/80 | Train Loss: 0.0002 | Train Acc: 100.00% | Test Loss: 2.5312 | Test Acc: 66.53%\n",
      "Epoch 71/80 | Train Loss: 0.0002 | Train Acc: 100.00% | Test Loss: 2.5332 | Test Acc: 66.54%\n",
      "Epoch 72/80 | Train Loss: 0.0002 | Train Acc: 100.00% | Test Loss: 2.5351 | Test Acc: 66.56%\n",
      "Epoch 73/80 | Train Loss: 0.0002 | Train Acc: 100.00% | Test Loss: 2.5369 | Test Acc: 66.62%\n",
      "Epoch 74/80 | Train Loss: 0.0002 | Train Acc: 100.00% | Test Loss: 2.5387 | Test Acc: 66.64%\n",
      "Epoch 75/80 | Train Loss: 0.0002 | Train Acc: 100.00% | Test Loss: 2.5404 | Test Acc: 66.65%\n",
      "Epoch 76/80 | Train Loss: 0.0002 | Train Acc: 100.00% | Test Loss: 2.5420 | Test Acc: 66.66%\n",
      "Epoch 77/80 | Train Loss: 0.0002 | Train Acc: 100.00% | Test Loss: 2.5437 | Test Acc: 66.66%\n",
      "Epoch 78/80 | Train Loss: 0.0002 | Train Acc: 100.00% | Test Loss: 2.5453 | Test Acc: 66.66%\n",
      "Epoch 79/80 | Train Loss: 0.0002 | Train Acc: 100.00% | Test Loss: 2.5470 | Test Acc: 66.66%\n",
      "Epoch 80/80 | Train Loss: 0.0002 | Train Acc: 100.00% | Test Loss: 2.5486 | Test Acc: 66.67%\n"
     ]
    }
   ],
   "source": [
    "model3 = CNNModel()\n",
    "model3.load_state_dict(torch.load(\"pretrained_MNIST_model.pt\"))\n",
    "optimizer3 = torch.optim.Adam(model3.parameters(), lr=0.01)\n",
    "epochs = 80 # TODO\n",
    "freeze_layers = False\n",
    "train_loss3, test_loss3, train_acc3, test_acc3 = train_model(model3, train_loader, test_loader, optimizer3, \n",
    "                                                             criterion, epochs=epochs, freeze_layers=freeze_layers)"
   ]
  },
  {
   "cell_type": "code",
   "execution_count": null,
   "id": "1c1ff68b-c681-40d9-ac52-f6fe5e441e09",
   "metadata": {},
   "outputs": [
    {
     "data": {
      "image/png": "[encoded data removed]",
      "text/plain": [
       "<Figure size 600x400 with 1 Axes>"
      ]
     },
     "metadata": {},
     "output_type": "display_data"
    }
   ],
   "source": [
    "epoch_range = range(1, epochs + 1)\n",
    "plt.figure(figsize=(6, 4))\n",
    "plt.plot(epoch_range, train_loss3, label=\"Train Loss\")\n",
    "plt.plot(epoch_range, test_loss3, label=\"Test Loss\")\n",
    "plt.xlabel(\"Epoch\")\n",
    "plt.ylabel(\"Loss\")\n",
    "plt.title(\"Loss (Pre-trained model: train all layers)\")\n",
    "plt.legend()\n",
    "plt.tight_layout()\n",
    "plt.show()"
   ]
  },
  {
   "cell_type": "markdown",
   "id": "222e98ca-49ca-4cd4-962b-a624da64949a",
   "metadata": {},
   "source": [
    "## (2d) Plot and Report"
   ]
  },
  {
   "cell_type": "code",
   "execution_count": 43,
   "id": "7ec219bb-1104-4db5-939b-760b3086a638",
   "metadata": {},
   "outputs": [
    {
     "data": {
      "image/png": "[encoded data removed]",
      "text/plain": [
       "<Figure size 1400x800 with 4 Axes>"
      ]
     },
     "metadata": {},
     "output_type": "display_data"
    }
   ],
   "source": [
    "# TODO - Plot\n",
    "epoch_range = range(1, epochs + 1)\n",
    "fig, axs = plt.subplots(2, 2, figsize=(14, 8))\n",
    "axs = axs.flatten()\n",
    "width = 0.35\n",
    "x = np.arange(3)+1  # the label locations\n",
    "\n",
    "\n",
    "axs[0].plot(epoch_range, train_loss1, \"--\", label=\"Train Loss model 1\", c = \"b\")\n",
    "axs[0].plot(epoch_range, train_loss2, \"--\", label=\"Train Loss model 1\", c = \"g\")\n",
    "axs[0].plot(epoch_range, train_loss3, \"--\", label=\"Train Loss model 1\", c = \"r\")\n",
    "axs[0].plot(epoch_range, test_loss1, label=\"Test Loss model 1\", c = \"b\")\n",
    "axs[0].plot(epoch_range, test_loss2, label=\"Test Loss model 2\", c = \"g\")\n",
    "axs[0].plot(epoch_range, test_loss3, label=\"Test Loss model 3\", c = \"r\")\n",
    "axs[0].set_xlabel(\"Epoch\")\n",
    "axs[0].set_ylabel(\"Loss\")\n",
    "axs[0].set_title(\"Test and train loss\")\n",
    "axs[0].legend()\n",
    "\n",
    "labels = [\"From scratch\\nModel 1\", \"Last layer only\\nModel 2\", \"Fine-tuned\\nModel 3\"]\n",
    "rects = axs[1].bar(x, [test_acc1[-1], test_acc2[-1], test_acc3[-1]], width, color='#78C850')\n",
    "for rect in rects:\n",
    "\theight = rect.get_height()\n",
    "\taxs[1].annotate('{}'.format(height),\n",
    "\t\t\t\txy=(rect.get_x() + rect.get_width() / 2, height),\n",
    "\t\t\t\txytext=(0, 3),  # 3 points vertical offset\n",
    "\t\t\t\ttextcoords=\"offset points\",\n",
    "\t\t\t\tha='center', va='bottom')\n",
    "\n",
    "axs[1].set_title(f\"Final accuracies\")\n",
    "axs[1].set_xlabel(\"Model\")\n",
    "axs[1].set_ylabel(\"Accuracy\")\n",
    "axs[1].set_xticks(x)\n",
    "axs[1].set_xticklabels(labels)\n",
    "\n",
    "rects = axs[2].bar(x, [train_loss1[-1], train_loss2[-1], train_loss3[-1]], width, color='#289BE0')\n",
    "for rect in rects:\n",
    "\theight = rect.get_height()\n",
    "\taxs[2].annotate('{:.2}'.format(height),\n",
    "\t\t\t\txy=(rect.get_x() + rect.get_width() / 2, height),\n",
    "\t\t\t\txytext=(0, 3),  # 3 points vertical offset\n",
    "\t\t\t\ttextcoords=\"offset points\",\n",
    "\t\t\t\tha='center', va='bottom')\n",
    "\n",
    "axs[2].set_title(f\"Final train losses\")\n",
    "axs[2].set_xlabel(\"Model\")\n",
    "axs[2].set_ylabel(\"Loss\")\n",
    "axs[2].set_xticks(x)\n",
    "axs[2].set_xticklabels(labels)\n",
    "\n",
    "rects = axs[3].bar(x, [test_loss1[-1], test_loss2[-1], test_loss3[-1]], width, color='#E04928')\n",
    "for rect in rects:\n",
    "\theight = rect.get_height()\n",
    "\taxs[3].annotate('{:.2}'.format(height),\n",
    "\t\t\t\txy=(rect.get_x() + rect.get_width() / 2, height),\n",
    "\t\t\t\txytext=(0, 3),  # 3 points vertical offset\n",
    "\t\t\t\ttextcoords=\"offset points\",\n",
    "\t\t\t\tha='center', va='bottom')\n",
    "axs[3].set_title(f\"Final test losses\")\n",
    "axs[3].set_xlabel(\"Model\")\n",
    "axs[3].set_ylabel(\"Loss\")\n",
    "axs[3].set_xticks(x)\n",
    "axs[3].set_xticklabels(labels)\n",
    "\n",
    "plt.tight_layout()\n",
    "plt.show()"
   ]
  },
  {
   "cell_type": "markdown",
   "id": "70226f92-0342-4a55-862f-360d46b48b2e",
   "metadata": {},
   "source": [
    "TODO - Report\n",
    "As we can see from the plots the final accuracies are somewhat similar, although the best accuracies are achieved by the models trained on all layers. \n",
    "\n",
    "From the losses plots we can say that all 3 models are overfitting the dataset given that it is very small (128 examples), since we have low train loss and somewhat high test loss, as expected.\n",
    "\n",
    "The model trained from scratch performs better than the fine-tuned one suggesting that the MNIST Fashion dataset can not be fit decently by a model trained on MNIST. \n",
    "\n",
    "Another interesting finding is that model 2's test loss is much higher than the other two suggesting that model 2 does in fact not update any parameter that does not belong in the last layer and uses it's prior knowledge to misclassify new data more often.\n",
    "\n",
    "As for computational complexity, the time required for all 3 models is roughly the same (around 2 minutes), suggesting the bottleneck is the evaluation of the dataset multiplied by the number of epochs."
   ]
  },
  {
   "cell_type": "markdown",
   "id": "9d4c7e47-d270-4be3-a575-bb85c00d014c",
   "metadata": {},
   "source": [
    "# 3. Few-shot learning"
   ]
  },
  {
   "cell_type": "markdown",
   "id": "0073e3c0-129a-4a70-a50f-be584752dc11",
   "metadata": {},
   "source": [
    "Here **KShotCDataset()** function is given.\n",
    "\n",
    "It is used to create a FashionMNIST dataloader for a given **K** and **C**.\n",
    "\n",
    "**DO NOT CHANGE THIS**"
   ]
  },
  {
   "cell_type": "code",
   "execution_count": 22,
   "id": "e7b3eae4-e437-467a-8b76-2cc66a4f8d76",
   "metadata": {},
   "outputs": [],
   "source": [
    "from torch.utils.data import Dataset\n",
    "\n",
    "# Set random seed for reproducibility\n",
    "seed = 42\n",
    "random.seed(seed)\n",
    "torch.manual_seed(seed)\n",
    "\n",
    "class KShotCDataset(Dataset):\n",
    "    def __init__(self, fashion_mnist_dataset, k_shot, c_way):\n",
    "        self.fashion_mnist_dataset = fashion_mnist_dataset\n",
    "        self.k_shot = k_shot\n",
    "        self.c_way = c_way\n",
    "\n",
    "        self.data_indices = []\n",
    "\n",
    "        self.class_indices = {label: [] for label in range(self.c_way)}\n",
    "        self.create_balanced_dataset()\n",
    "\n",
    "    def create_balanced_dataset(self):\n",
    "        for idx, (_, label) in enumerate(self.fashion_mnist_dataset):\n",
    "            if label < self.c_way:\n",
    "                self.class_indices[label].append(idx)\n",
    "\n",
    "        for label in range(self.c_way):\n",
    "            self.data_indices.extend(self.class_indices[label][:self.k_shot])\n",
    "\n",
    "    def __len__(self):\n",
    "        return len(self.data_indices)\n",
    "\n",
    "    def __getitem__(self, index):\n",
    "        fashion_mnist_index = self.data_indices[index]\n",
    "        image, label = self.fashion_mnist_dataset[fashion_mnist_index]\n",
    "        return image, label\n",
    "\n",
    "# Load the Fashion MNIST training dataset\n",
    "transform = transforms.Compose([transforms.ToTensor()])\n",
    "fashionmnist_dataset = torchvision.datasets.FashionMNIST(\n",
    "    root='./data',\n",
    "    train=True,\n",
    "    transform=transform,\n",
    "    download=True\n",
    ")"
   ]
  },
  {
   "cell_type": "markdown",
   "id": "f89d9187-d344-4563-8736-b541339117af",
   "metadata": {},
   "source": [
    "Below, you see an example of how to use **KShotCDataset().**\n",
    "\n",
    "Implement the algorithm and follow the exercise sheet for details on what to analyse and report."
   ]
  },
  {
   "cell_type": "code",
   "execution_count": 57,
   "id": "eff005b4-87c9-495a-b088-d93d06cda49a",
   "metadata": {},
   "outputs": [
    {
     "name": "stdout",
     "output_type": "stream",
     "text": [
      "1-NN accuracy: 70.0\n",
      "7-NN accuracy: 74.28571428571429\n",
      "1-NN accuracy: 61.42857142857143\n",
      "7-NN accuracy: 60.0\n",
      "1-NN accuracy: 70.0\n",
      "7-NN accuracy: 65.71428571428571\n",
      "1-NN accuracy: 71.42857142857143\n",
      "7-NN accuracy: 72.85714285714285\n"
     ]
    }
   ],
   "source": [
    "K = 7  # Number of shots per class\n",
    "C = 10  # Number of classes -- ordered labels are selected, e.g. C = 3 means labels=[0, 1, 2]\n",
    "# Create the K-shot C-way dataset\n",
    "k_shot_c_dataset = KShotCDataset(fashionmnist_dataset, K, C)\n",
    "\n",
    "dataloader = DataLoader(k_shot_c_dataset, batch_size=K*C, shuffle=True)\n",
    "\n",
    "model = CNNModel()\n",
    "model.load_state_dict(torch.load(\"pretrained_MNIST_model.pt\"))\n",
    "models = [model, model1, model2, model3]\n",
    "accuracies = []\n",
    "for net in models:\n",
    "\tnet.eval()\n",
    "\tsupport_features = []\n",
    "\tsupport_labels = []\n",
    "\twith torch.no_grad():\n",
    "\t\tfor images, labels in train_loader:\n",
    "\t\t\t# Extract features (assuming the model has a features method or we can use it up to penultimate layer)\n",
    "\t\t\tout = net.MaxPool1(net.bn1(net.relu1(net.cnn1(images))))\n",
    "\t\t\tout = net.MaxPool2(net.bn2(net.relu2(net.cnn2(out))))\n",
    "\t\t\tout = net.MaxPool3(net.bn3(net.relu3(net.cnn3(out))))\n",
    "\t\t\tfeatures = out.view(out.size(0), -1)\n",
    "\t\t\tsupport_features.append(features)\n",
    "\t\t\tsupport_labels.append(labels)\n",
    "\n",
    "\tsupport_features = torch.cat(support_features, dim=0)\n",
    "\tsupport_labels = torch.cat(support_labels, dim=0)\n",
    "\n",
    "\t# Extract query features and labels\n",
    "\tquery_features = []\n",
    "\tquery_labels = []\n",
    "\n",
    "\twith torch.no_grad():\n",
    "\t\tfor images, labels in dataloader:\n",
    "\t\t\tout = net.MaxPool1(net.bn1(net.relu1(net.cnn1(images))))\n",
    "\t\t\tout = net.MaxPool2(net.bn2(net.relu2(net.cnn2(out))))\n",
    "\t\t\tout = net.MaxPool3(net.bn3(net.relu3(net.cnn3(out))))\n",
    "\t\t\tfeatures = out.view(out.size(0), -1)\n",
    "\t\t\tquery_features.append(features)\n",
    "\t\t\tquery_labels.append(labels)\n",
    "\n",
    "\tquery_features = torch.cat(query_features, dim=0)\n",
    "\tquery_labels = torch.cat(query_labels, dim=0)\n",
    "\n",
    "\t# center the features\n",
    "\tsupport_mean = torch.mean(support_features, dim=0, keepdim=True)\n",
    "\tsupport_centered = support_features - support_mean\n",
    "\tquery_centered = query_features - support_mean  # Use support mean for both\n",
    "\n",
    "\t# normalization\n",
    "\tsupport_norm = torch.norm(support_centered, p=2, dim=1, keepdim=True)\n",
    "\tquery_norm = torch.norm(query_centered, p=2, dim=1, keepdim=True)\n",
    "\tsupport_features_normalized = support_centered / (support_norm + 1e-10)\n",
    "\tquery_features_normalized = query_centered / (query_norm + 1e-10)\n",
    "\n",
    "\n",
    "\t# KNN classification for K=1 and K=7\n",
    "\tfrom sklearn.neighbors import KNeighborsClassifier\n",
    "\tfrom sklearn.metrics import accuracy_score\n",
    "\n",
    "\n",
    "\tknn_1 = KNeighborsClassifier(n_neighbors=1)\n",
    "\tknn_1.fit(support_features_normalized, support_labels)\n",
    "\tpreds = knn_1.predict(query_features_normalized)\n",
    "\tacc = accuracy_score(query_labels, preds)\n",
    "\taccuracies.append(acc * 100)\n",
    "\tprint(f\"1-NN accuracy: {acc * 100}\")\n",
    "\n",
    "\tknn_7 = KNeighborsClassifier(n_neighbors=7)\n",
    "\tknn_7.fit(support_features_normalized, support_labels)\n",
    "\tpreds = knn_7.predict(query_features_normalized)\n",
    "\tacc = accuracy_score(query_labels, preds)\n",
    "\taccuracies.append(acc * 100)\n",
    "\n",
    "\tprint(f\"7-NN accuracy: {acc * 100}\")\n"
   ]
  },
  {
   "cell_type": "code",
   "execution_count": 61,
   "id": "8e427734",
   "metadata": {},
   "outputs": [
    {
     "data": {
      "image/png": "[encoded data removed]",
      "text/plain": [
       "<Figure size 800x500 with 1 Axes>"
      ]
     },
     "metadata": {},
     "output_type": "display_data"
    }
   ],
   "source": [
    "one_nn = accuracies[::2]\n",
    "seven_nn = accuracies[1::2]\n",
    "\n",
    "x = np.arange(4)\n",
    "width = 0.35\n",
    "\n",
    "fig, ax = plt.subplots(figsize=(8, 5))\n",
    "bars1 = ax.bar(x - width/2, one_nn, width, label='1-NN', color='#78C850')\n",
    "bars2 = ax.bar(x + width/2, seven_nn, width, label='7-NN', color='#289BE0')\n",
    "\n",
    "ax.set_ylabel('Accuracy')\n",
    "ax.set_xlabel('Model')\n",
    "ax.set_title('Few shot accuracy')\n",
    "ax.set_xticks(x)\n",
    "ax.set_xticklabels([\"Vanilla\\n Model 0\", \"From scratch\\nModel 1\", \"Last layer only\\nModel 2\", \"Fine-tuned\\nModel 3\"])\n",
    "ax.set_ylim(0, 100)\n",
    "ax.legend()\n",
    "ax.grid(True, axis='y', linestyle='--', alpha=0.7)\n",
    "\n",
    "# Annotate bars with values\n",
    "for bar in bars1 + bars2:\n",
    "    height = bar.get_height()\n",
    "    ax.annotate(f'{height:.1f}',\n",
    "                xy=(bar.get_x() + bar.get_width() / 2, height),\n",
    "                xytext=(0, 3),\n",
    "                textcoords=\"offset points\",\n",
    "                ha='center', va='bottom', fontsize=9)\n",
    "\n",
    "plt.tight_layout()\n",
    "plt.show()\n"
   ]
  },
  {
   "cell_type": "markdown",
   "id": "ad77c2d7",
   "metadata": {},
   "source": [
    "TODO - Report\n",
    "\n",
    "As we can see from the plot the highest accuracy is given by the pretrained model (here called Model 0), not trained on the MNIST Fashion dataset, although ideally in the Few Shot method the feature extractor should to be trained on data coming from the same distribution. The second best result and highest result in 1 shot learning is Model 3, the fine-tuned model trained first on MNIST and later on MNIST Fashion. We can also notice that the worst performance is offered by the model trained from scratch since the feature extractor was trained on a very limited amount of data."
   ]
  }
 ],
 "metadata": {
  "kernelspec": {
   "display_name": "Python 3",
   "language": "python",
   "name": "python3"
  },
  "language_info": {
   "codemirror_mode": {
    "name": "ipython",
    "version": 3
   },
   "file_extension": ".py",
   "mimetype": "text/x-python",
   "name": "python",
   "nbconvert_exporter": "python",
   "pygments_lexer": "ipython3",
   "version": "3.10.12"
  }
 },
 "nbformat": 4,
 "nbformat_minor": 5
}
